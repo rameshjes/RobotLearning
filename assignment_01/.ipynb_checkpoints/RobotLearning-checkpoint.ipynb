{
 "cells": [
  {
   "cell_type": "code",
   "execution_count": 45,
   "metadata": {
    "collapsed": true
   },
   "outputs": [],
   "source": [
    "import numpy as np\n",
    "import random \n",
    "from random import randint"
   ]
  },
  {
   "cell_type": "markdown",
   "metadata": {},
   "source": [
    "# Exercise 1.1 \n",
    "\n"
   ]
  },
  {
   "cell_type": "code",
   "execution_count": 42,
   "metadata": {
    "collapsed": false
   },
   "outputs": [],
   "source": [
    "# To compute individual expected value of each arm \n",
    "arms = np.array([[2,3],[-1,5],[1,5],[-2,4],[0,3],[2,6]])\n",
    "expected_value_each_arm = np.mean(arms,axis=1)\n",
    "expected_value_first_arm = expected_value_each_arm[0]\n",
    "expected_value_second_arm = expected_value_each_arm[1]\n",
    "expected_value_third_arm = expected_value_each_arm[2]\n",
    "expected_value_fourth_arm = expected_value_each_arm[3]\n",
    "expected_value_fifth_arm = expected_value_each_arm[4]\n",
    "expected_value_sixth_arm = expected_value_each_arm[5]\n"
   ]
  },
  {
   "cell_type": "code",
   "execution_count": 44,
   "metadata": {
    "collapsed": false
   },
   "outputs": [
    {
     "name": "stdout",
     "output_type": "stream",
     "text": [
      "expected_value arm1 2.5\n",
      "expected_value arm2 2.0\n",
      "expected_value arm3 3.0\n",
      "expected_value arm4 1.0\n",
      "expected_value arm5 1.5\n",
      "expected_value arm6 4.0\n"
     ]
    }
   ],
   "source": [
    "print 'expected_value arm1',expected_value_first_arm\n",
    "print 'expected_value arm2', expected_value_second_arm\n",
    "print 'expected_value arm3', expected_value_third_arm\n",
    "print 'expected_value arm4', expected_value_fourth_arm\n",
    "print 'expected_value arm5',expected_value_fifth_arm\n",
    "print 'expected_value arm6', expected_value_sixth_arm"
   ]
  },
  {
   "cell_type": "markdown",
   "metadata": {},
   "source": [
    "# Exercise 1.2\n"
   ]
  },
  {
   "cell_type": "code",
   "execution_count": 122,
   "metadata": {
    "collapsed": false
   },
   "outputs": [
    {
     "name": "stderr",
     "output_type": "stream",
     "text": [
      "/home/ramesh/anaconda2/lib/python2.7/site-packages/ipykernel/__main__.py:10: VisibleDeprecationWarning: using a non-integer number instead of an integer will result in an error in the future\n",
      "/home/ramesh/anaconda2/lib/python2.7/site-packages/ipykernel/__main__.py:11: VisibleDeprecationWarning: using a non-integer number instead of an integer will result in an error in the future\n",
      "/home/ramesh/anaconda2/lib/python2.7/site-packages/ipykernel/__main__.py:12: VisibleDeprecationWarning: using a non-integer number instead of an integer will result in an error in the future\n"
     ]
    }
   ],
   "source": [
    "number_of_arms = 6\n",
    "action_rewards = np.array([[np.random.uniform(2,3)],[np.random.uniform(-1,5)],[np.random.uniform(1,5)],[np.random.uniform(-2,4)],\n",
    "                [np.random.uniform(0,3)],[np.random.uniform(2,6)]])\n",
    "action_value_estimate = np.zeros(number_of_arms)\n",
    "iterations = 100\n",
    "count_occurance_of_action = np.zeros(number_of_arms)\n",
    "reward_of_selected_arm = np.zeros(number_of_arms)\n",
    "for i in range(iterations):\n",
    "    select_arm = np.random.uniform(0,6)\n",
    "    reward_of_selected_arm = action_rewards[select_arm]\n",
    "    count_occurance_of_action[select_arm]+=1\n",
    "    action_value_estimate[select_arm]+= (reward_of_selected_arm)/count_occurance_of_action[select_arm] \n",
    "    \n",
    "best_estimate = np.argmax(action_value_estimate) \n"
   ]
  },
  {
   "cell_type": "markdown",
   "metadata": {},
   "source": [
    "# Exercise 1.3 \n"
   ]
  },
  {
   "cell_type": "code",
   "execution_count": 137,
   "metadata": {
    "collapsed": true
   },
   "outputs": [],
   "source": [
    "def e_greedy(self, iterations,e,number_of_arms):\n",
    "    rewards = []\n",
    "    count_action = np.zeros(number_of_arms)\n",
    "    action_value_estimate = np.zeros(number_of_arms)\n",
    "    for i in range(iterations):\n",
    "        action_rewards = np.array([[np.random.uniform(2,3)],[np.random.uniform(-1,5)],[np.random.uniform(1,5)],[np.random.uniform(-2,4)],\n",
    "                [np.random.uniform(0,3)],[np.random.uniform(2,6)]])\n",
    "        \n",
    "        # if random number is less than epsilon, we explore\n",
    "        \n",
    "        if np.random.random() > e:\n",
    "            index = action_value_estimate[0]\n",
    "            \n",
    "        else:\n",
    "            index = np.random.randint(0,number_of_arms)\n",
    "            \n",
    "        count_action[select_arm]= count_action[select_arm] + 1\n",
    "        \n",
    "        \n",
    "        #average_reward = self.sample_bandit(bandit_index)\n",
    "        #sample = [bandit_index, average_reward]\n",
    "        #rewards.append(sample)\n",
    "\n",
    "\n",
    "        #self.Q[bandit_index,1] = self.Q[bandit_index,1] + 1\n",
    "        action_value_estimate[index] += action_value_estimate[index]+ ((action_rewards[index] - action_value_estimate[index])/count_action[index])\n",
    "\n",
    "        #if ((i + 1) % iterations) == 0:sss\n",
    "        #    self.print_Q()\n",
    "        #    print('Average reward = ' + str(np.mean(np.array(rewards)[:,1])))"
   ]
  },
  {
   "cell_type": "code",
   "execution_count": 138,
   "metadata": {
    "collapsed": false
   },
   "outputs": [
    {
     "name": "stderr",
     "output_type": "stream",
     "text": [
      "/home/ramesh/anaconda2/lib/python2.7/site-packages/ipykernel/__main__.py:17: VisibleDeprecationWarning: using a non-integer number instead of an integer will result in an error in the future\n",
      "/home/ramesh/anaconda2/lib/python2.7/site-packages/ipykernel/__main__.py:26: VisibleDeprecationWarning: using a non-integer number instead of an integer will result in an error in the future\n",
      "/home/ramesh/anaconda2/lib/python2.7/site-packages/ipykernel/__main__.py:26: RuntimeWarning: divide by zero encountered in divide\n",
      "/home/ramesh/anaconda2/lib/python2.7/site-packages/ipykernel/__main__.py:26: RuntimeWarning: invalid value encountered in add\n"
     ]
    },
    {
     "ename": "IndexError",
     "evalue": "index -9223372036854775808 is out of bounds for axis 0 with size 6",
     "output_type": "error",
     "traceback": [
      "\u001b[1;31m---------------------------------------------------------------------------\u001b[0m",
      "\u001b[1;31mIndexError\u001b[0m                                Traceback (most recent call last)",
      "\u001b[1;32m<ipython-input-138-f2f2b2e57b42>\u001b[0m in \u001b[0;36m<module>\u001b[1;34m()\u001b[0m\n\u001b[0;32m      3\u001b[0m \u001b[0mactions\u001b[0m \u001b[1;33m=\u001b[0m \u001b[1;36m1000\u001b[0m\u001b[1;33m\u001b[0m\u001b[0m\n\u001b[0;32m      4\u001b[0m \u001b[0mepsilon\u001b[0m \u001b[1;33m=\u001b[0m \u001b[1;36m0.1\u001b[0m\u001b[1;33m\u001b[0m\u001b[0m\n\u001b[1;32m----> 5\u001b[1;33m \u001b[0me_greedy\u001b[0m\u001b[1;33m(\u001b[0m\u001b[0mactions\u001b[0m\u001b[1;33m,\u001b[0m\u001b[0miterations\u001b[0m\u001b[1;33m,\u001b[0m\u001b[0mepsilon\u001b[0m\u001b[1;33m,\u001b[0m\u001b[0marms\u001b[0m\u001b[1;33m)\u001b[0m\u001b[1;33m\u001b[0m\u001b[0m\n\u001b[0m",
      "\u001b[1;32m<ipython-input-137-d22fc714c912>\u001b[0m in \u001b[0;36me_greedy\u001b[1;34m(self, iterations, e, number_of_arms)\u001b[0m\n\u001b[0;32m     24\u001b[0m \u001b[1;33m\u001b[0m\u001b[0m\n\u001b[0;32m     25\u001b[0m         \u001b[1;31m#self.Q[bandit_index,1] = self.Q[bandit_index,1] + 1\u001b[0m\u001b[1;33m\u001b[0m\u001b[1;33m\u001b[0m\u001b[0m\n\u001b[1;32m---> 26\u001b[1;33m         \u001b[0maction_value_estimate\u001b[0m\u001b[1;33m[\u001b[0m\u001b[0mindex\u001b[0m\u001b[1;33m]\u001b[0m \u001b[1;33m+=\u001b[0m \u001b[0maction_value_estimate\u001b[0m\u001b[1;33m[\u001b[0m\u001b[0mindex\u001b[0m\u001b[1;33m]\u001b[0m\u001b[1;33m+\u001b[0m \u001b[1;33m(\u001b[0m\u001b[1;33m(\u001b[0m\u001b[0maction_rewards\u001b[0m\u001b[1;33m[\u001b[0m\u001b[0mindex\u001b[0m\u001b[1;33m]\u001b[0m \u001b[1;33m-\u001b[0m \u001b[0maction_value_estimate\u001b[0m\u001b[1;33m[\u001b[0m\u001b[0mindex\u001b[0m\u001b[1;33m]\u001b[0m\u001b[1;33m)\u001b[0m\u001b[1;33m/\u001b[0m\u001b[0mcount_action\u001b[0m\u001b[1;33m[\u001b[0m\u001b[0mindex\u001b[0m\u001b[1;33m]\u001b[0m\u001b[1;33m)\u001b[0m\u001b[1;33m\u001b[0m\u001b[0m\n\u001b[0m\u001b[0;32m     27\u001b[0m \u001b[1;33m\u001b[0m\u001b[0m\n\u001b[0;32m     28\u001b[0m         \u001b[1;31m#if ((i + 1) % iterations) == 0:sss\u001b[0m\u001b[1;33m\u001b[0m\u001b[1;33m\u001b[0m\u001b[0m\n",
      "\u001b[1;31mIndexError\u001b[0m: index -9223372036854775808 is out of bounds for axis 0 with size 6"
     ]
    }
   ],
   "source": [
    "arms = 6\n",
    "iterations = 100\n",
    "actions = 1000\n",
    "epsilon = 0.1\n",
    "e_greedy(actions,iterations,epsilon,arms)"
   ]
  },
  {
   "cell_type": "code",
   "execution_count": null,
   "metadata": {
    "collapsed": true
   },
   "outputs": [],
   "source": []
  },
  {
   "cell_type": "code",
   "execution_count": null,
   "metadata": {
    "collapsed": true
   },
   "outputs": [],
   "source": []
  },
  {
   "cell_type": "code",
   "execution_count": null,
   "metadata": {
    "collapsed": true
   },
   "outputs": [],
   "source": []
  },
  {
   "cell_type": "code",
   "execution_count": 114,
   "metadata": {
    "collapsed": true
   },
   "outputs": [],
   "source": [
    "def sample_average_reward():\n",
    "    index = randint(0,5)\n",
    "    samples = generate_samples(index)\n",
    "    average_reward = np.mean(samples)\n",
    "    \n",
    "def generate_samples(index):\n",
    "    value1,value2 = arms[index]\n",
    "    print value1,value2\n",
    "    samples = np.random.normal(value1,value2,100)\n",
    "    return samples"
   ]
  },
  {
   "cell_type": "code",
   "execution_count": 72,
   "metadata": {
    "collapsed": false
   },
   "outputs": [
    {
     "name": "stdout",
     "output_type": "stream",
     "text": [
      "-2 4\n",
      "-2.16750612145\n"
     ]
    }
   ],
   "source": [
    "sample_average_reward()"
   ]
  },
  {
   "cell_type": "code",
   "execution_count": 76,
   "metadata": {
    "collapsed": false
   },
   "outputs": [
    {
     "data": {
      "text/plain": [
       "0.10452367139695051"
      ]
     },
     "execution_count": 76,
     "metadata": {},
     "output_type": "execute_result"
    }
   ],
   "source": [
    "np.random.uniform(0,1)"
   ]
  },
  {
   "cell_type": "code",
   "execution_count": 83,
   "metadata": {
    "collapsed": false
   },
   "outputs": [
    {
     "data": {
      "text/plain": [
       "0.04983433500419243"
      ]
     },
     "execution_count": 83,
     "metadata": {},
     "output_type": "execute_result"
    }
   ],
   "source": [
    "np.random.random()"
   ]
  },
  {
   "cell_type": "code",
   "execution_count": 88,
   "metadata": {
    "collapsed": true
   },
   "outputs": [],
   "source": [
    "Q = np.array([[0.0, 1],\n",
    "             [0.0, 2],\n",
    "             [0.0, 3],\n",
    "             [0.0, 4],\n",
    "             [0.0, 5],\n",
    "             [0.0, 6]])"
   ]
  },
  {
   "cell_type": "code",
   "execution_count": 89,
   "metadata": {
    "collapsed": false
   },
   "outputs": [
    {
     "data": {
      "text/plain": [
       "0.0"
      ]
     },
     "execution_count": 89,
     "metadata": {},
     "output_type": "execute_result"
    }
   ],
   "source": [
    "andit_index = np.max(Q[:,0])\n",
    "andit_index"
   ]
  },
  {
   "cell_type": "code",
   "execution_count": 92,
   "metadata": {
    "collapsed": false
   },
   "outputs": [
    {
     "data": {
      "text/plain": [
       "5.0"
      ]
     },
     "execution_count": 92,
     "metadata": {},
     "output_type": "execute_result"
    }
   ],
   "source": [
    "Q[4,1]"
   ]
  },
  {
   "cell_type": "code",
   "execution_count": 93,
   "metadata": {
    "collapsed": true
   },
   "outputs": [],
   "source": [
    "reward_distribution = np.array([[2,3],\n",
    "                                [-1,5],\n",
    "                                [1,5],\n",
    "                                [-2,4],\n",
    "                                [0,3],\n",
    "                                [2,6]])"
   ]
  },
  {
   "cell_type": "code",
   "execution_count": 96,
   "metadata": {
    "collapsed": false
   },
   "outputs": [
    {
     "data": {
      "text/plain": [
       "array([[ 2,  3],\n",
       "       [-1,  5],\n",
       "       [10, 20],\n",
       "       [-2,  4],\n",
       "       [ 0,  3],\n",
       "       [ 2,  6]])"
      ]
     },
     "execution_count": 96,
     "metadata": {},
     "output_type": "execute_result"
    }
   ],
   "source": [
    "reward_distribution[2] = [10,20]\n",
    "reward_distribution"
   ]
  },
  {
   "cell_type": "code",
   "execution_count": null,
   "metadata": {
    "collapsed": true
   },
   "outputs": [],
   "source": []
  }
 ],
 "metadata": {
  "anaconda-cloud": {},
  "kernelspec": {
   "display_name": "Python [Root]",
   "language": "python",
   "name": "Python [Root]"
  },
  "language_info": {
   "codemirror_mode": {
    "name": "ipython",
    "version": 3
   },
   "file_extension": ".py",
   "mimetype": "text/x-python",
   "name": "python",
   "nbconvert_exporter": "python",
   "pygments_lexer": "ipython3",
   "version": "3.5.2"
  }
 },
 "nbformat": 4,
 "nbformat_minor": 0
}
