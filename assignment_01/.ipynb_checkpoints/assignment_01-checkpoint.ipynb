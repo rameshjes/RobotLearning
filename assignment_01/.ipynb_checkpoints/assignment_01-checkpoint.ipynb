{
 "cells": [
  {
   "cell_type": "code",
   "execution_count": 2,
   "metadata": {
    "collapsed": false
   },
   "outputs": [],
   "source": [
    "import numpy as np\n",
    "import matplotlib.pyplot as plt\n",
    "import random \n",
    "from random import randint"
   ]
  },
  {
   "cell_type": "markdown",
   "metadata": {},
   "source": [
    "# Exercise 1.1 "
   ]
  },
  {
   "cell_type": "code",
   "execution_count": 9,
   "metadata": {
    "collapsed": true
   },
   "outputs": [],
   "source": [
    "# To compute individual expected value of each arm \n",
    "arms = np.array([[2,3],[-1,5],[1,5],[-2,4],[0,3],[2,6]])\n",
    "expected_value_each_arm = np.mean(arms,axis=1)\n",
    "expected_value_first_arm = expected_value_each_arm[0]\n",
    "expected_value_second_arm = expected_value_each_arm[1]\n",
    "expected_value_third_arm = expected_value_each_arm[2]\n",
    "expected_value_fourth_arm = expected_value_each_arm[3]\n",
    "expected_value_fifth_arm = expected_value_each_arm[4]\n",
    "expected_value_sixth_arm = expected_value_each_arm[5]"
   ]
  },
  {
   "cell_type": "code",
   "execution_count": 10,
   "metadata": {
    "collapsed": false
   },
   "outputs": [
    {
     "name": "stdout",
     "output_type": "stream",
     "text": [
      "expected_value arm1 2.5\n",
      "expected_value arm2 2.0\n",
      "expected_value arm3 3.0\n",
      "expected_value arm4 1.0\n",
      "expected_value arm5 1.5\n",
      "expected_value arm6 4.0\n"
     ]
    }
   ],
   "source": [
    "print 'expected_value arm1',expected_value_first_arm\n",
    "print 'expected_value arm2', expected_value_second_arm\n",
    "print 'expected_value arm3', expected_value_third_arm\n",
    "print 'expected_value arm4', expected_value_fourth_arm\n",
    "print 'expected_value arm5',expected_value_fifth_arm\n",
    "print 'expected_value arm6', expected_value_sixth_arm"
   ]
  },
  {
   "cell_type": "code",
   "execution_count": 122,
   "metadata": {
    "collapsed": false
   },
   "outputs": [],
   "source": [
    "class Armed_Bandits(object):\n",
    "    def __init__(self, bandits, Q):\n",
    "        self.bandits = bandits\n",
    "        self.Q = Q\n",
    "        self.arms = len(bandits[:,0])\n",
    "        \n",
    "        \n",
    "        self.optimistic_Q = np.array([[10.0, 0],\n",
    "             [10.0, 0],\n",
    "             [10.0, 0],\n",
    "             [10.0, 0],\n",
    "             [10.0, 0],\n",
    "             [10.0, 0]])\n",
    "\n",
    "    # Exercise 1.2\n",
    "    \n",
    "    def sample_bandit(self, bandit_index):\n",
    "        expected_value = np.random.uniform(self.bandits[bandit_index,0],self.bandits[bandit_index,1])\n",
    "        return expected_value\n",
    "    \n",
    "    def average_reward(self,iterations):\n",
    "        rewards = []\n",
    "        for i in range(iterations):\n",
    "            bandit_index = np.random.randint(0,self.arms)\n",
    "            sample = [bandit_index, self.sample_bandit(bandit_index)]\n",
    "            rewards.append(sample)\n",
    "        average_rewards = np.mean(np.array(rewards)[:,1])\n",
    "        print('Average reward = ' + str(average_rewards))\n",
    "    \n",
    "    # Exercise 1.3 \n",
    "    \n",
    "    def print_Q(self):\n",
    "        for i in range(self.arms):\n",
    "            print('Arm ' + str(i+1) + ' = ' + str(100*self.Q[i,1]/np.sum(self.Q[:,1])) + '%')\n",
    "        \n",
    "    def e_greedy(self, iterations, frequency, e):\n",
    "        rewards = []\n",
    "        for i in range(iterations):\n",
    "            if np.random.random() > e:\n",
    "                bandit_index = np.max(Q[:,0])\n",
    "            else:\n",
    "                bandit_index = np.random.randint(0,self.arms)\n",
    "            average_reward = self.sample_bandit(bandit_index)\n",
    "            sample = [bandit_index, average_reward]\n",
    "            rewards.append(sample)\n",
    "            #mean_plot = np.mean(rewards,axis=0)\n",
    "            #means = np.mean(np.array(rewards), axis=0)\n",
    "            self.Q[bandit_index,1] = self.Q[bandit_index,1] + 1\n",
    "            self.Q[bandit_index,0] = self.Q[bandit_index,0] + (average_reward - self.Q[bandit_index,0])/self.Q[bandit_index,1]\n",
    "            if ((i + 1) % frequency) == 0:\n",
    "                self.print_Q()\n",
    "                print('Average reward = ' + str(np.mean(np.array(rewards)[:,1])))\n",
    "                \n",
    "        \n",
    "    def third_arm_uniformly(self,iterations,frequency,e,alpha):\n",
    "        rewards = []\n",
    "        k = iterations\n",
    "        summation = 0\n",
    "        for i in range(iterations):\n",
    "            \n",
    "            if np.random.random() > e:\n",
    "                bandit_index = np.max(Q[:,0])\n",
    "            else:\n",
    "                bandit_index = np.random.randint(0,self.arms)\n",
    "            average_reward = self.sample_bandit(bandit_index)\n",
    "            sample = [bandit_index, average_reward]\n",
    "            rewards.append(sample)\n",
    "            \n",
    "            \n",
    "            summation = alpha*((1-alpha)**(k-i))*average_reward + summation \n",
    "            self.Q[bandit_index,0] = self.Q[0,0]*((1 - alpha)**k) + summation \n",
    "            \n",
    "            # after 500 iterations\n",
    "            \n",
    "            if i > 500:\n",
    "                self.bandits[2] = np.array([6,8])\n",
    "            if ((i + 1) % frequency) == 0:\n",
    "                self.print_Q()\n",
    "                print('Average reward = ' + str(np.mean(np.array(rewards)[:,1])))\n",
    "                \n",
    "            #plt.figure()\n",
    "            #plt.plot(range(0,iterations),np.array(rewards)[:,0])\n",
    "            #plt.show()\n",
    "    def optimistic_intiallization(self,iterations,frequency,alpha):\n",
    "        rewards = []\n",
    "        k = iterations\n",
    "        summation = 0\n",
    "        \n",
    "        for i in range(iterations):\n",
    "            bandit_index = np.max(Q[:,0])\n",
    "            average_reward = self.sample_bandit(bandit_index)\n",
    "            sample = [bandit_index, average_reward]\n",
    "            rewards.append(sample)\n",
    "            \n",
    "        summation = alpha*((1-alpha)**(k-i))*average_reward + summation \n",
    "        Q[bandit_index,0] = Q[0,0]*((1 - alpha)**k) + summation \n",
    "        \n",
    "        if i > 500:\n",
    "            self.bandits[2] = np.array([6,8])\n",
    "        if ((i + 1) % frequency) == 0:\n",
    "            self.print_Q()\n",
    "            print('Average reward = ' + str(np.mean(np.array(rewards)[:,1])))\n",
    "        \n",
    "        \n",
    "    \n",
    "    "
   ]
  },
  {
   "cell_type": "code",
   "execution_count": 123,
   "metadata": {
    "collapsed": false
   },
   "outputs": [
    {
     "name": "stdout",
     "output_type": "stream",
     "text": [
      "Q [[ 0.  0.]\n",
      " [ 0.  0.]\n",
      " [ 0.  0.]\n",
      " [ 0.  0.]\n",
      " [ 0.  0.]\n",
      " [ 0.  0.]]\n",
      "self.Q [[ 0.  0.]\n",
      " [ 0.  0.]\n",
      " [ 0.  0.]\n",
      " [ 0.  0.]\n",
      " [ 0.  0.]\n",
      " [ 0.  0.]]\n",
      "Average reward = 2.23447452728\n"
     ]
    }
   ],
   "source": [
    "reward_distribution = np.array([[2,3],\n",
    "                                [-1,5],\n",
    "                                [1,5],\n",
    "                                [-2,4],\n",
    "                                [0,3],\n",
    "                                [2,6]])\n",
    "Q = np.array([[0.0, 0],\n",
    "             [0.0, 0],\n",
    "             [0.0, 0],\n",
    "             [0.0, 0],\n",
    "             [0.0, 0],\n",
    "             [0.0, 0]])\n",
    "bandits = Armed_Bandits(reward_distribution, Q)\n",
    "bandits.average_reward(100)"
   ]
  },
  {
   "cell_type": "code",
   "execution_count": 98,
   "metadata": {
    "collapsed": false
   },
   "outputs": [
    {
     "name": "stdout",
     "output_type": "stream",
     "text": [
      "Arm 1 = 3.0%\n",
      "Arm 2 = 3.0%\n",
      "Arm 3 = 4.0%\n",
      "Arm 4 = 89.0%\n",
      "Arm 5 = 0.0%\n",
      "Arm 6 = 1.0%\n",
      "Average reward = 0.920100198751\n",
      "Arm 1 = 3.5%\n",
      "Arm 2 = 3.0%\n",
      "Arm 3 = 2.0%\n",
      "Arm 4 = 68.0%\n",
      "Arm 5 = 21.0%\n",
      "Arm 6 = 2.5%\n",
      "Average reward = 1.18423533213\n",
      "Arm 1 = 3.33333333333%\n",
      "Arm 2 = 2.33333333333%\n",
      "Arm 3 = 2.0%\n",
      "Arm 4 = 45.3333333333%\n",
      "Arm 5 = 45.0%\n",
      "Arm 6 = 2.0%\n",
      "Average reward = 1.28613266775\n",
      "Arm 1 = 3.0%\n",
      "Arm 2 = 2.25%\n",
      "Arm 3 = 1.75%\n",
      "Arm 4 = 34.5%\n",
      "Arm 5 = 57.0%\n",
      "Arm 6 = 1.5%\n",
      "Average reward = 1.32571038905\n",
      "Arm 1 = 2.4%\n",
      "Arm 2 = 2.2%\n",
      "Arm 3 = 1.6%\n",
      "Arm 4 = 27.8%\n",
      "Arm 5 = 64.6%\n",
      "Arm 6 = 1.4%\n",
      "Average reward = 1.3822535249\n",
      "Arm 1 = 2.33333333333%\n",
      "Arm 2 = 2.0%\n",
      "Arm 3 = 1.83333333333%\n",
      "Arm 4 = 23.5%\n",
      "Arm 5 = 69.1666666667%\n",
      "Arm 6 = 1.16666666667%\n",
      "Average reward = 1.41566701826\n",
      "Arm 1 = 2.71428571429%\n",
      "Arm 2 = 1.71428571429%\n",
      "Arm 3 = 1.85714285714%\n",
      "Arm 4 = 20.5714285714%\n",
      "Arm 5 = 72.0%\n",
      "Arm 6 = 1.14285714286%\n",
      "Average reward = 1.42911476188\n",
      "Arm 1 = 2.625%\n",
      "Arm 2 = 2.0%\n",
      "Arm 3 = 1.875%\n",
      "Arm 4 = 18.25%\n",
      "Arm 5 = 74.125%\n",
      "Arm 6 = 1.125%\n",
      "Average reward = 1.43862905142\n",
      "Arm 1 = 2.44444444444%\n",
      "Arm 2 = 1.88888888889%\n",
      "Arm 3 = 1.77777777778%\n",
      "Arm 4 = 16.2222222222%\n",
      "Arm 5 = 76.4444444444%\n",
      "Arm 6 = 1.22222222222%\n",
      "Average reward = 1.45663118843\n",
      "Arm 1 = 2.5%\n",
      "Arm 2 = 1.7%\n",
      "Arm 3 = 1.8%\n",
      "Arm 4 = 15.0%\n",
      "Arm 5 = 77.9%\n",
      "Arm 6 = 1.1%\n",
      "Average reward = 1.47086109213\n"
     ]
    },
    {
     "name": "stderr",
     "output_type": "stream",
     "text": [
      "/home/ramesh/anaconda2/lib/python2.7/site-packages/ipykernel/__main__.py:10: VisibleDeprecationWarning: using a non-integer number instead of an integer will result in an error in the future\n",
      "/home/ramesh/anaconda2/lib/python2.7/site-packages/ipykernel/__main__.py:40: VisibleDeprecationWarning: using a non-integer number instead of an integer will result in an error in the future\n",
      "/home/ramesh/anaconda2/lib/python2.7/site-packages/ipykernel/__main__.py:41: VisibleDeprecationWarning: using a non-integer number instead of an integer will result in an error in the future\n"
     ]
    }
   ],
   "source": [
    "bandits.e_greedy(1000,100,0.1)"
   ]
  },
  {
   "cell_type": "code",
   "execution_count": 121,
   "metadata": {
    "collapsed": false
   },
   "outputs": [
    {
     "name": "stdout",
     "output_type": "stream",
     "text": [
      "Arm 1 = nan%\n",
      "Arm 2 = nan%\n",
      "Arm 3 = nan%\n",
      "Arm 4 = nan%\n",
      "Arm 5 = nan%\n",
      "Arm 6 = nan%\n",
      "Average reward = 2.42756919791\n",
      "Arm 1 = nan%\n",
      "Arm 2 = nan%\n",
      "Arm 3 = nan%\n",
      "Arm 4 = nan%\n",
      "Arm 5 = nan%\n",
      "Arm 6 = nan%\n",
      "Average reward = 2.51202196045\n",
      "Arm 1 = nan%\n",
      "Arm 2 = nan%\n",
      "Arm 3 = nan%\n",
      "Arm 4 = nan%\n",
      "Arm 5 = nan%\n",
      "Arm 6 = nan%\n",
      "Average reward = 2.50515799319\n",
      "Arm 1 = nan%\n",
      "Arm 2 = nan%\n",
      "Arm 3 = nan%\n",
      "Arm 4 = nan%\n",
      "Arm 5 = nan%\n",
      "Arm 6 = nan%\n",
      "Average reward = 2.49442310879\n",
      "Arm 1 = nan%\n",
      "Arm 2 = nan%\n",
      "Arm 3 = nan%\n",
      "Arm 4 = nan%\n",
      "Arm 5 = nan%\n",
      "Arm 6 = nan%\n",
      "Average reward = 2.47556011849\n",
      "Arm 1 = nan%\n",
      "Arm 2 = nan%\n",
      "Arm 3 = nan%\n",
      "Arm 4 = nan%\n",
      "Arm 5 = nan%\n",
      "Arm 6 = nan%\n",
      "Average reward = 2.49771972553\n",
      "Arm 1 = nan%\n",
      "Arm 2 = nan%\n",
      "Arm 3 = nan%\n",
      "Arm 4 = nan%\n",
      "Arm 5 = nan%\n",
      "Arm 6 = nan%\n",
      "Average reward = 2.49137831446\n",
      "Arm 1 = nan%\n",
      "Arm 2 = nan%\n",
      "Arm 3 = nan%\n",
      "Arm 4 = nan%\n",
      "Arm 5 = nan%\n",
      "Arm 6 = nan%\n",
      "Average reward = 2.49224406228\n",
      "Arm 1 = nan%\n",
      "Arm 2 = nan%\n",
      "Arm 3 = nan%\n",
      "Arm 4 = nan%\n",
      "Arm 5 = nan%\n",
      "Arm 6 = nan%\n",
      "Average reward = 2.51042267801\n",
      "Arm 1 = nan%\n",
      "Arm 2 = nan%\n",
      "Arm 3 = nan%\n",
      "Arm 4 = nan%\n",
      "Arm 5 = nan%\n",
      "Arm 6 = nan%\n",
      "Average reward = 2.50863706777\n"
     ]
    },
    {
     "name": "stderr",
     "output_type": "stream",
     "text": [
      "/home/ramesh/anaconda2/lib/python2.7/site-packages/ipykernel/__main__.py:16: VisibleDeprecationWarning: using a non-integer number instead of an integer will result in an error in the future\n",
      "/home/ramesh/anaconda2/lib/python2.7/site-packages/ipykernel/__main__.py:69: VisibleDeprecationWarning: using a non-integer number instead of an integer will result in an error in the future\n",
      "/home/ramesh/anaconda2/lib/python2.7/site-packages/ipykernel/__main__.py:32: RuntimeWarning: invalid value encountered in double_scalars\n"
     ]
    }
   ],
   "source": [
    "alpha = 0.01\n",
    "bandits.third_arm_uniformly(1000,100,0.1,alpha)"
   ]
  },
  {
   "cell_type": "code",
   "execution_count": 118,
   "metadata": {
    "collapsed": false
   },
   "outputs": [
    {
     "name": "stdout",
     "output_type": "stream",
     "text": [
      "Arm 1 = nan%\n",
      "Arm 2 = nan%\n",
      "Arm 3 = nan%\n",
      "Arm 4 = nan%\n",
      "Arm 5 = nan%\n",
      "Arm 6 = nan%\n",
      "Average reward = 2.51013724272\n"
     ]
    },
    {
     "name": "stderr",
     "output_type": "stream",
     "text": [
      "/home/ramesh/anaconda2/lib/python2.7/site-packages/ipykernel/__main__.py:16: VisibleDeprecationWarning: using a non-integer number instead of an integer will result in an error in the future\n",
      "/home/ramesh/anaconda2/lib/python2.7/site-packages/ipykernel/__main__.py:94: VisibleDeprecationWarning: using a non-integer number instead of an integer will result in an error in the future\n",
      "/home/ramesh/anaconda2/lib/python2.7/site-packages/ipykernel/__main__.py:32: RuntimeWarning: invalid value encountered in double_scalars\n"
     ]
    }
   ],
   "source": [
    "bandits.optimistic_intiallization(1000,100,alpha)"
   ]
  },
  {
   "cell_type": "code",
   "execution_count": null,
   "metadata": {
    "collapsed": true
   },
   "outputs": [],
   "source": []
  }
 ],
 "metadata": {
  "anaconda-cloud": {},
  "kernelspec": {
   "display_name": "Python [Root]",
   "language": "python",
   "name": "Python [Root]"
  },
  "language_info": {
   "codemirror_mode": {
    "name": "ipython",
    "version": 2
   },
   "file_extension": ".py",
   "mimetype": "text/x-python",
   "name": "python",
   "nbconvert_exporter": "python",
   "pygments_lexer": "ipython2",
   "version": "2.7.12"
  }
 },
 "nbformat": 4,
 "nbformat_minor": 0
}
