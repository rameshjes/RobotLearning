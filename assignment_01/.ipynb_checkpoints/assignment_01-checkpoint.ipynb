{
 "cells": [
  {
   "cell_type": "code",
   "execution_count": 2,
   "metadata": {
    "collapsed": false
   },
   "outputs": [],
   "source": [
    "import numpy as np\n",
    "import matplotlib.pyplot as plt\n",
    "import random \n",
    "from random import randint"
   ]
  },
  {
   "cell_type": "markdown",
   "metadata": {},
   "source": [
    "# Exercise 1.1 "
   ]
  },
  {
   "cell_type": "code",
   "execution_count": 142,
   "metadata": {
    "collapsed": true
   },
   "outputs": [],
   "source": [
    "# To compute individual expected value of each arm \n",
    "arms = np.array([[2,3],[-1,5],[1,5],[-2,4],[0,3],[2,6]])\n",
    "expected_value_each_arm = np.mean(arms,axis=1)\n",
    "expected_value_first_arm = expected_value_each_arm[0]\n",
    "expected_value_second_arm = expected_value_each_arm[1]\n",
    "expected_value_third_arm = expected_value_each_arm[2]\n",
    "expected_value_fourth_arm = expected_value_each_arm[3]\n",
    "expected_value_fifth_arm = expected_value_each_arm[4]\n",
    "expected_value_sixth_arm = expected_value_each_arm[5]\n",
    "\n",
    "cumulative_expected_value = expected_value_first_arm +  expected_value_second_arm + expected_value_third_arm+ expected_value_fourth_arm+ expected_value_fifth_arm + expected_value_sixth_arm"
   ]
  },
  {
   "cell_type": "code",
   "execution_count": 141,
   "metadata": {
    "collapsed": false
   },
   "outputs": [
    {
     "name": "stdout",
     "output_type": "stream",
     "text": [
      "expected_value arm1 2.5\n",
      "expected_value arm2 2.0\n",
      "expected_value arm3 3.0\n",
      "expected_value arm4 1.0\n",
      "expected_value arm5 1.5\n",
      "expected_value arm6 4.0\n",
      "cumulative expected value 14.0\n"
     ]
    }
   ],
   "source": [
    "print 'expected_value arm1',expected_value_first_arm\n",
    "print 'expected_value arm2', expected_value_second_arm\n",
    "print 'expected_value arm3', expected_value_third_arm\n",
    "print 'expected_value arm4', expected_value_fourth_arm\n",
    "print 'expected_value arm5',expected_value_fifth_arm\n",
    "print 'expected_value arm6', expected_value_sixth_arm\n",
    "print 'cumulative expected value',cumulative_expected_value"
   ]
  },
  {
   "cell_type": "markdown",
   "metadata": {},
   "source": [
    "# Exercise 1.2"
   ]
  },
  {
   "cell_type": "code",
   "execution_count": 143,
   "metadata": {
    "collapsed": false
   },
   "outputs": [
    {
     "name": "stderr",
     "output_type": "stream",
     "text": [
      "/home/ramesh/anaconda2/lib/python2.7/site-packages/ipykernel/__main__.py:10: VisibleDeprecationWarning: using a non-integer number instead of an integer will result in an error in the future\n",
      "/home/ramesh/anaconda2/lib/python2.7/site-packages/ipykernel/__main__.py:11: VisibleDeprecationWarning: using a non-integer number instead of an integer will result in an error in the future\n",
      "/home/ramesh/anaconda2/lib/python2.7/site-packages/ipykernel/__main__.py:12: VisibleDeprecationWarning: using a non-integer number instead of an integer will result in an error in the future\n"
     ]
    }
   ],
   "source": [
    "number_of_arms = 6\n",
    "action_rewards = np.array([[np.random.uniform(2,3)],[np.random.uniform(-1,5)],[np.random.uniform(1,5)],[np.random.uniform(-2,4)],\n",
    "                [np.random.uniform(0,3)],[np.random.uniform(2,6)]])\n",
    "action_value_estimate = np.zeros(number_of_arms)\n",
    "iterations = 100\n",
    "count_occurance_of_action = np.zeros(number_of_arms)\n",
    "reward_of_selected_arm = np.zeros(number_of_arms)\n",
    "for i in range(iterations):\n",
    "    select_arm = np.random.uniform(0,6)\n",
    "    reward_of_selected_arm = action_rewards[select_arm]\n",
    "    count_occurance_of_action[select_arm]+=1\n",
    "    action_value_estimate[select_arm]+= (reward_of_selected_arm)/count_occurance_of_action[select_arm] \n",
    "    \n",
    "best_estimate = np.argmax(action_value_estimate) "
   ]
  },
  {
   "cell_type": "code",
   "execution_count": 135,
   "metadata": {
    "collapsed": false
   },
   "outputs": [],
   "source": [
    "class Armed_Bandits(object):\n",
    "    def __init__(self, bandits, Q):\n",
    "        self.bandits = bandits\n",
    "        self.Q = Q\n",
    "        self.arms = len(bandits[:,0])\n",
    "        \n",
    "        \n",
    "        self.optimistic_Q = np.array([[0.0, 0],\n",
    "             [0.0, 0],\n",
    "             [0.0, 0],\n",
    "             [0.0, 0],\n",
    "             [0.0, 0],\n",
    "             [0.0, 0]])\n",
    "\n",
    "    # Exercise 1.2\n",
    "    \n",
    "    def sample_bandit(self, bandit_index):\n",
    "        expected_value = np.random.uniform(self.bandits[bandit_index,0],self.bandits[bandit_index,1])\n",
    "        return expected_value\n",
    "    \n",
    "    def average_reward(self,iterations):\n",
    "        rewards = []\n",
    "        for i in range(iterations):\n",
    "            bandit_index = np.random.randint(0,self.arms)\n",
    "            sample = [bandit_index, self.sample_bandit(bandit_index)]\n",
    "            rewards.append(sample)\n",
    "        average_rewards = np.mean(np.array(rewards)[:,1])\n",
    "        print('Average reward = ' + str(average_rewards))\n",
    "    \n",
    "    # Exercise 1.3 \n",
    "    \n",
    "    def print_Q(self):\n",
    "        for i in range(self.arms):\n",
    "            print('Arm ' + str(i+1) + ' = ' + str(100*self.Q[i,1]/np.sum(self.Q[:,1])) + '%')\n",
    "        \n",
    "    def e_greedy(self, iterations, frequency, e):\n",
    "        rewards = []\n",
    "        for i in range(iterations):\n",
    "            if np.random.random() > e:\n",
    "                bandit_index = np.max(self.Q[:,0])\n",
    "            else:\n",
    "                bandit_index = np.random.randint(0,self.arms)\n",
    "            average_reward = self.sample_bandit(bandit_index)\n",
    "            sample = [bandit_index, average_reward]\n",
    "            rewards.append(sample)\n",
    "            \n",
    "           \n",
    "            self.Q[bandit_index,1] = self.Q[bandit_index,1] + 1\n",
    "            self.Q[bandit_index,0] = self.Q[bandit_index,0] + (average_reward - self.Q[bandit_index,0])/self.Q[bandit_index,1]\n",
    "            if ((i + 1) % frequency) == 0:\n",
    "                self.print_Q()\n",
    "                print('Average reward = ' + str(np.mean(np.array(rewards)[:,1])))\n",
    "                \n",
    "        \n",
    "    def third_arm_uniformly(self,iterations,frequency,e,alpha):\n",
    "        rewards = []\n",
    "        k = iterations\n",
    "        summation = 0\n",
    "        for i in range(iterations):\n",
    "            \n",
    "            if np.random.random() > e:\n",
    "                bandit_index = np.max(self.Q[:,0])\n",
    "            else:\n",
    "                bandit_index = np.random.randint(0,self.arms)\n",
    "            average_reward = self.sample_bandit(bandit_index)\n",
    "            sample = [bandit_index, average_reward]\n",
    "            rewards.append(sample)\n",
    "            \n",
    "            \n",
    "            summation = alpha*((1-alpha)**(k-i))*average_reward + summation \n",
    "            self.Q[bandit_index,0] = self.Q[0,0]*((1 - alpha)**k) + summation \n",
    "            \n",
    "            # after 500 iterations\n",
    "            \n",
    "            if i > 500:\n",
    "                self.bandits[2] = np.array([6,8])\n",
    "            if ((i + 1) % frequency) == 0:\n",
    "                self.print_Q()\n",
    "                print('Average reward = ' + str(np.mean(np.array(rewards)[:,1])))\n",
    "                \n",
    "            #plt.figure()\n",
    "            #plt.plot(range(0,iterations),np.array(rewards)[:,0])\n",
    "            #plt.show()\n",
    "    def optimistic_intiallization(self,iterations,frequency,alpha):\n",
    "        rewards = []\n",
    "        k = iterations\n",
    "        summation = 0\n",
    "        \n",
    "        for i in range(iterations):\n",
    "            bandit_index = np.max(self.optimistic_Q[:,0])\n",
    "            average_reward = self.sample_bandit(bandit_index)\n",
    "            sample = [bandit_index, average_reward]\n",
    "            rewards.append(sample)\n",
    "            \n",
    "        summation = alpha*((1-alpha)**(k-i))*average_reward + summation \n",
    "        self.optimistic_Q[bandit_index,0] = self.optimistic_Q[0,0]*((1 - alpha)**k) + summation \n",
    "        \n",
    "        if i > 500:\n",
    "            self.bandits[2] = np.array([6,8])\n",
    "        if ((i + 1) % frequency) == 0:\n",
    "            self.print_Q()\n",
    "            print('Average reward = ' + str(np.mean(np.array(rewards)[:,1])))\n",
    "        \n",
    "        \n",
    "    \n",
    "    "
   ]
  },
  {
   "cell_type": "code",
   "execution_count": 136,
   "metadata": {
    "collapsed": false
   },
   "outputs": [
    {
     "name": "stdout",
     "output_type": "stream",
     "text": [
      "Average reward = 2.30066248821\n"
     ]
    }
   ],
   "source": [
    "reward_distribution = np.array([[2,3],\n",
    "                                [-1,5],\n",
    "                                [1,5],\n",
    "                                [-2,4],\n",
    "                                [0,3],\n",
    "                                [2,6]])\n",
    "Q = np.array([[0.0, 0],\n",
    "             [0.0, 0],\n",
    "             [0.0, 0],\n",
    "             [0.0, 0],\n",
    "             [0.0, 0],\n",
    "             [0.0, 0]])\n",
    "bandits = Armed_Bandits(reward_distribution, Q)\n",
    "bandits.average_reward(100)"
   ]
  },
  {
   "cell_type": "code",
   "execution_count": 137,
   "metadata": {
    "collapsed": false
   },
   "outputs": [
    {
     "name": "stdout",
     "output_type": "stream",
     "text": [
      "Arm 1 = 2.0%\n",
      "Arm 2 = 1.0%\n",
      "Arm 3 = 1.0%\n",
      "Arm 4 = 2.0%\n",
      "Arm 5 = 89.0%\n",
      "Arm 6 = 5.0%\n",
      "Average reward = 1.75296280559\n",
      "Arm 1 = 2.5%\n",
      "Arm 2 = 1.0%\n",
      "Arm 3 = 1.5%\n",
      "Arm 4 = 3.0%\n",
      "Arm 5 = 89.0%\n",
      "Arm 6 = 3.0%\n",
      "Average reward = 1.49425825498\n",
      "Arm 1 = 1.66666666667%\n",
      "Arm 2 = 1.66666666667%\n",
      "Arm 3 = 1.33333333333%\n",
      "Arm 4 = 2.33333333333%\n",
      "Arm 5 = 90.3333333333%\n",
      "Arm 6 = 2.66666666667%\n",
      "Average reward = 1.52687938108\n",
      "Arm 1 = 1.5%\n",
      "Arm 2 = 1.25%\n",
      "Arm 3 = 1.25%\n",
      "Arm 4 = 2.0%\n",
      "Arm 5 = 92.0%\n",
      "Arm 6 = 2.0%\n",
      "Average reward = 1.51292697608\n",
      "Arm 1 = 1.4%\n",
      "Arm 2 = 1.2%\n",
      "Arm 3 = 1.8%\n",
      "Arm 4 = 2.2%\n",
      "Arm 5 = 91.2%\n",
      "Arm 6 = 2.2%\n",
      "Average reward = 1.53810181493\n",
      "Arm 1 = 1.66666666667%\n",
      "Arm 2 = 1.16666666667%\n",
      "Arm 3 = 1.66666666667%\n",
      "Arm 4 = 2.33333333333%\n",
      "Arm 5 = 91.1666666667%\n",
      "Arm 6 = 2.0%\n",
      "Average reward = 1.53152361354\n",
      "Arm 1 = 1.57142857143%\n",
      "Arm 2 = 1.28571428571%\n",
      "Arm 3 = 1.85714285714%\n",
      "Arm 4 = 2.42857142857%\n",
      "Arm 5 = 90.8571428571%\n",
      "Arm 6 = 2.0%\n",
      "Average reward = 1.54699926224\n",
      "Arm 1 = 1.625%\n",
      "Arm 2 = 1.125%\n",
      "Arm 3 = 1.75%\n",
      "Arm 4 = 2.125%\n",
      "Arm 5 = 91.375%\n",
      "Arm 6 = 2.0%\n",
      "Average reward = 1.5371556716\n",
      "Arm 1 = 1.88888888889%\n",
      "Arm 2 = 1.11111111111%\n",
      "Arm 3 = 1.55555555556%\n",
      "Arm 4 = 2.11111111111%\n",
      "Arm 5 = 91.3333333333%\n",
      "Arm 6 = 2.0%\n",
      "Average reward = 1.53885540723\n",
      "Arm 1 = 1.8%\n",
      "Arm 2 = 1.1%\n",
      "Arm 3 = 1.6%\n",
      "Arm 4 = 2.0%\n",
      "Arm 5 = 91.6%\n",
      "Arm 6 = 1.9%\n",
      "Average reward = 1.52851166392\n"
     ]
    },
    {
     "name": "stderr",
     "output_type": "stream",
     "text": [
      "/home/ramesh/anaconda2/lib/python2.7/site-packages/ipykernel/__main__.py:18: VisibleDeprecationWarning: using a non-integer number instead of an integer will result in an error in the future\n",
      "/home/ramesh/anaconda2/lib/python2.7/site-packages/ipykernel/__main__.py:48: VisibleDeprecationWarning: using a non-integer number instead of an integer will result in an error in the future\n",
      "/home/ramesh/anaconda2/lib/python2.7/site-packages/ipykernel/__main__.py:49: VisibleDeprecationWarning: using a non-integer number instead of an integer will result in an error in the future\n"
     ]
    }
   ],
   "source": [
    "bandits.e_greedy(1000,100,0.1)"
   ]
  },
  {
   "cell_type": "code",
   "execution_count": 138,
   "metadata": {
    "collapsed": false
   },
   "outputs": [
    {
     "name": "stdout",
     "output_type": "stream",
     "text": [
      "Arm 1 = 1.8%\n",
      "Arm 2 = 1.1%\n",
      "Arm 3 = 1.6%\n",
      "Arm 4 = 2.0%\n",
      "Arm 5 = 91.6%\n",
      "Arm 6 = 1.9%\n",
      "Average reward = 1.71684000869\n",
      "Arm 1 = 1.8%\n",
      "Arm 2 = 1.1%\n",
      "Arm 3 = 1.6%\n",
      "Arm 4 = 2.0%\n",
      "Arm 5 = 91.6%\n",
      "Arm 6 = 1.9%\n",
      "Average reward = 2.12325273439\n",
      "Arm 1 = 1.8%\n",
      "Arm 2 = 1.1%\n",
      "Arm 3 = 1.6%\n",
      "Arm 4 = 2.0%\n",
      "Arm 5 = 91.6%\n",
      "Arm 6 = 1.9%\n",
      "Average reward = 2.2769288664\n",
      "Arm 1 = 1.8%\n",
      "Arm 2 = 1.1%\n",
      "Arm 3 = 1.6%\n",
      "Arm 4 = 2.0%\n",
      "Arm 5 = 91.6%\n",
      "Arm 6 = 1.9%\n",
      "Average reward = 2.33915813766\n",
      "Arm 1 = 1.8%\n",
      "Arm 2 = 1.1%\n",
      "Arm 3 = 1.6%\n",
      "Arm 4 = 2.0%\n",
      "Arm 5 = 91.6%\n",
      "Arm 6 = 1.9%\n",
      "Average reward = 2.36269705612\n",
      "Arm 1 = 1.8%\n",
      "Arm 2 = 1.1%\n",
      "Arm 3 = 1.6%\n",
      "Arm 4 = 2.0%\n",
      "Arm 5 = 91.6%\n",
      "Arm 6 = 1.9%\n",
      "Average reward = 2.41063977057\n",
      "Arm 1 = 1.8%\n",
      "Arm 2 = 1.1%\n",
      "Arm 3 = 1.6%\n",
      "Arm 4 = 2.0%\n",
      "Arm 5 = 91.6%\n",
      "Arm 6 = 1.9%\n",
      "Average reward = 2.43072844824\n",
      "Arm 1 = 1.8%\n",
      "Arm 2 = 1.1%\n",
      "Arm 3 = 1.6%\n",
      "Arm 4 = 2.0%\n",
      "Arm 5 = 91.6%\n",
      "Arm 6 = 1.9%\n",
      "Average reward = 2.45437241073\n",
      "Arm 1 = 1.8%\n",
      "Arm 2 = 1.1%\n",
      "Arm 3 = 1.6%\n",
      "Arm 4 = 2.0%\n",
      "Arm 5 = 91.6%\n",
      "Arm 6 = 1.9%\n",
      "Average reward = 2.4794966646\n",
      "Arm 1 = 1.8%\n",
      "Arm 2 = 1.1%\n",
      "Arm 3 = 1.6%\n",
      "Arm 4 = 2.0%\n",
      "Arm 5 = 91.6%\n",
      "Arm 6 = 1.9%\n",
      "Average reward = 2.51177166854\n"
     ]
    },
    {
     "name": "stderr",
     "output_type": "stream",
     "text": [
      "/home/ramesh/anaconda2/lib/python2.7/site-packages/ipykernel/__main__.py:18: VisibleDeprecationWarning: using a non-integer number instead of an integer will result in an error in the future\n",
      "/home/ramesh/anaconda2/lib/python2.7/site-packages/ipykernel/__main__.py:71: VisibleDeprecationWarning: using a non-integer number instead of an integer will result in an error in the future\n"
     ]
    }
   ],
   "source": [
    "alpha = 0.01\n",
    "bandits.third_arm_uniformly(1000,100,0.1,alpha)"
   ]
  },
  {
   "cell_type": "code",
   "execution_count": 139,
   "metadata": {
    "collapsed": false
   },
   "outputs": [
    {
     "name": "stderr",
     "output_type": "stream",
     "text": [
      "/home/ramesh/anaconda2/lib/python2.7/site-packages/ipykernel/__main__.py:18: VisibleDeprecationWarning: using a non-integer number instead of an integer will result in an error in the future\n"
     ]
    },
    {
     "ename": "IndexError",
     "evalue": "index 10 is out of bounds for axis 0 with size 6",
     "output_type": "error",
     "traceback": [
      "\u001b[1;31m------------------------------------------------------------\u001b[0m",
      "\u001b[1;31mIndexError\u001b[0m                 Traceback (most recent call last)",
      "\u001b[1;32m<ipython-input-139-1eb8f4ed7a68>\u001b[0m in \u001b[0;36m<module>\u001b[1;34m()\u001b[0m\n\u001b[1;32m----> 1\u001b[1;33m \u001b[0mbandits\u001b[0m\u001b[1;33m.\u001b[0m\u001b[0moptimistic_intiallization\u001b[0m\u001b[1;33m(\u001b[0m\u001b[1;36m1000\u001b[0m\u001b[1;33m,\u001b[0m\u001b[1;36m100\u001b[0m\u001b[1;33m,\u001b[0m\u001b[0malpha\u001b[0m\u001b[1;33m)\u001b[0m\u001b[1;33m\u001b[0m\u001b[0m\n\u001b[0m",
      "\u001b[1;32m<ipython-input-135-9fea13bd3ab8>\u001b[0m in \u001b[0;36moptimistic_intiallization\u001b[1;34m(self, iterations, frequency, alpha)\u001b[0m\n\u001b[0;32m     89\u001b[0m         \u001b[1;32mfor\u001b[0m \u001b[0mi\u001b[0m \u001b[1;32min\u001b[0m \u001b[0mrange\u001b[0m\u001b[1;33m(\u001b[0m\u001b[0miterations\u001b[0m\u001b[1;33m)\u001b[0m\u001b[1;33m:\u001b[0m\u001b[1;33m\u001b[0m\u001b[0m\n\u001b[0;32m     90\u001b[0m             \u001b[0mbandit_index\u001b[0m \u001b[1;33m=\u001b[0m \u001b[0mnp\u001b[0m\u001b[1;33m.\u001b[0m\u001b[0mmax\u001b[0m\u001b[1;33m(\u001b[0m\u001b[0mself\u001b[0m\u001b[1;33m.\u001b[0m\u001b[0moptimistic_Q\u001b[0m\u001b[1;33m[\u001b[0m\u001b[1;33m:\u001b[0m\u001b[1;33m,\u001b[0m\u001b[1;36m0\u001b[0m\u001b[1;33m]\u001b[0m\u001b[1;33m)\u001b[0m\u001b[1;33m\u001b[0m\u001b[0m\n\u001b[1;32m---> 91\u001b[1;33m             \u001b[0maverage_reward\u001b[0m \u001b[1;33m=\u001b[0m \u001b[0mself\u001b[0m\u001b[1;33m.\u001b[0m\u001b[0msample_bandit\u001b[0m\u001b[1;33m(\u001b[0m\u001b[0mbandit_index\u001b[0m\u001b[1;33m)\u001b[0m\u001b[1;33m\u001b[0m\u001b[0m\n\u001b[0m\u001b[0;32m     92\u001b[0m             \u001b[0msample\u001b[0m \u001b[1;33m=\u001b[0m \u001b[1;33m[\u001b[0m\u001b[0mbandit_index\u001b[0m\u001b[1;33m,\u001b[0m \u001b[0maverage_reward\u001b[0m\u001b[1;33m]\u001b[0m\u001b[1;33m\u001b[0m\u001b[0m\n\u001b[0;32m     93\u001b[0m             \u001b[0mrewards\u001b[0m\u001b[1;33m.\u001b[0m\u001b[0mappend\u001b[0m\u001b[1;33m(\u001b[0m\u001b[0msample\u001b[0m\u001b[1;33m)\u001b[0m\u001b[1;33m\u001b[0m\u001b[0m\n",
      "\u001b[1;32m<ipython-input-135-9fea13bd3ab8>\u001b[0m in \u001b[0;36msample_bandit\u001b[1;34m(self, bandit_index)\u001b[0m\n\u001b[0;32m     16\u001b[0m \u001b[1;33m\u001b[0m\u001b[0m\n\u001b[0;32m     17\u001b[0m     \u001b[1;32mdef\u001b[0m \u001b[0msample_bandit\u001b[0m\u001b[1;33m(\u001b[0m\u001b[0mself\u001b[0m\u001b[1;33m,\u001b[0m \u001b[0mbandit_index\u001b[0m\u001b[1;33m)\u001b[0m\u001b[1;33m:\u001b[0m\u001b[1;33m\u001b[0m\u001b[0m\n\u001b[1;32m---> 18\u001b[1;33m         \u001b[0mexpected_value\u001b[0m \u001b[1;33m=\u001b[0m \u001b[0mnp\u001b[0m\u001b[1;33m.\u001b[0m\u001b[0mrandom\u001b[0m\u001b[1;33m.\u001b[0m\u001b[0muniform\u001b[0m\u001b[1;33m(\u001b[0m\u001b[0mself\u001b[0m\u001b[1;33m.\u001b[0m\u001b[0mbandits\u001b[0m\u001b[1;33m[\u001b[0m\u001b[0mbandit_index\u001b[0m\u001b[1;33m,\u001b[0m\u001b[1;36m0\u001b[0m\u001b[1;33m]\u001b[0m\u001b[1;33m,\u001b[0m\u001b[0mself\u001b[0m\u001b[1;33m.\u001b[0m\u001b[0mbandits\u001b[0m\u001b[1;33m[\u001b[0m\u001b[0mbandit_index\u001b[0m\u001b[1;33m,\u001b[0m\u001b[1;36m1\u001b[0m\u001b[1;33m]\u001b[0m\u001b[1;33m)\u001b[0m\u001b[1;33m\u001b[0m\u001b[0m\n\u001b[0m\u001b[0;32m     19\u001b[0m         \u001b[1;32mreturn\u001b[0m \u001b[0mexpected_value\u001b[0m\u001b[1;33m\u001b[0m\u001b[0m\n\u001b[0;32m     20\u001b[0m \u001b[1;33m\u001b[0m\u001b[0m\n",
      "\u001b[1;31mIndexError\u001b[0m: index 10 is out of bounds for axis 0 with size 6"
     ]
    }
   ],
   "source": [
    "bandits.optimistic_intiallization(1000,100,alpha)"
   ]
  },
  {
   "cell_type": "code",
   "execution_count": null,
   "metadata": {
    "collapsed": true
   },
   "outputs": [],
   "source": []
  }
 ],
 "metadata": {
  "anaconda-cloud": {},
  "kernelspec": {
   "display_name": "Python [Root]",
   "language": "python",
   "name": "Python [Root]"
  },
  "language_info": {
   "codemirror_mode": {
    "name": "ipython",
    "version": 2
   },
   "file_extension": ".py",
   "mimetype": "text/x-python",
   "name": "python",
   "nbconvert_exporter": "python",
   "pygments_lexer": "ipython2",
   "version": "2.7.12"
  }
 },
 "nbformat": 4,
 "nbformat_minor": 0
}
