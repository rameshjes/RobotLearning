{
 "cells": [
  {
   "cell_type": "code",
   "execution_count": 1,
   "metadata": {
    "collapsed": true
   },
   "outputs": [],
   "source": [
    "import numpy as np\n",
    "import matplotlib.pyplot as plt"
   ]
  },
  {
   "cell_type": "code",
   "execution_count": 3,
   "metadata": {
    "collapsed": false
   },
   "outputs": [],
   "source": [
    "class Armed_Bandits(object):\n",
    "    def __init__(self, bandits, Q):\n",
    "        self.bandits = bandits\n",
    "        self.Q = Q\n",
    "        self.arms = len(bandits[:,0])\n",
    "\n",
    "    def sample_bandit(self, bandit_index):\n",
    "        expected_value = np.random.uniform(self.bandits[bandit_index,0],self.bandits[bandit_index,1])\n",
    "        return expected_value\n",
    "    \n",
    "    def average_reward(self,iterations):\n",
    "        rewards = []\n",
    "        for i in range(iterations):\n",
    "            bandit_index = np.random.randint(0,self.arms)\n",
    "            sample = [bandit_index, self.sample_bandit(bandit_index)]\n",
    "            rewards.append(sample)\n",
    "        average_rewards = np.mean(np.array(rewards)[:,1])\n",
    "        print('Average reward = ' + str(average_rewards))\n",
    "    \n",
    "    def print_Q(self):\n",
    "        for i in range(self.arms):\n",
    "            print('Arm ' + str(i+1) + ' = ' + str(100*self.Q[i,1]/np.sum(self.Q[:,1])) + '%')\n",
    "        \n",
    "    def e_greedy(self, iterations, frequency, e):\n",
    "        rewards = []\n",
    "        for i in range(iterations):\n",
    "            if np.random.random() > e:\n",
    "                bandit_index = np.max(Q[:,0])\n",
    "            else:\n",
    "                bandit_index = np.random.randint(0,self.arms)\n",
    "            average_reward = self.sample_bandit(bandit_index)\n",
    "            sample = [bandit_index, average_reward]\n",
    "            rewards.append(sample)\n",
    "            self.Q[bandit_index,1] = self.Q[bandit_index,1] + 1\n",
    "            self.Q[bandit_index,0] = self.Q[bandit_index,0] + (average_reward - self.Q[bandit_index,0])/self.Q[bandit_index,1]\n",
    "            if ((i + 1) % frequency) == 0:\n",
    "                self.print_Q()\n",
    "                print('Average reward = ' + str(np.mean(np.array(rewards)[:,1])))\n",
    "        plt.figure()\n",
    "        plt.plot(range(0,iterations),np.array(rewards)[:,0])\n",
    "        plt.show()"
   ]
  },
  {
   "cell_type": "code",
   "execution_count": 8,
   "metadata": {
    "collapsed": false
   },
   "outputs": [
    {
     "name": "stdout",
     "output_type": "stream",
     "text": [
      "Average reward = 2.33549202361\n"
     ]
    }
   ],
   "source": [
    "reward_distribution = np.array([[2,3],\n",
    "                                [-1,5],\n",
    "                                [1,5],\n",
    "                                [-2,4],\n",
    "                                [0,3],\n",
    "                                [2,6]])\n",
    "Q = np.array([[0.0, 0],\n",
    "             [0.0, 0],\n",
    "             [0.0, 0],\n",
    "             [0.0, 0],\n",
    "             [0.0, 0],\n",
    "             [0.0, 0]])\n",
    "bandits = Armed_Bandits(reward_distribution, Q)\n",
    "bandits.average_reward(100000)"
   ]
  },
  {
   "cell_type": "code",
   "execution_count": 162,
   "metadata": {
    "collapsed": false
   },
   "outputs": [
    {
     "name": "stderr",
     "output_type": "stream",
     "text": [
      "/home/rob/anaconda3/lib/python3.5/site-packages/ipykernel/__main__.py:8: VisibleDeprecationWarning: using a non-integer number instead of an integer will result in an error in the future\n",
      "/home/rob/anaconda3/lib/python3.5/site-packages/ipykernel/__main__.py:34: VisibleDeprecationWarning: using a non-integer number instead of an integer will result in an error in the future\n",
      "/home/rob/anaconda3/lib/python3.5/site-packages/ipykernel/__main__.py:35: VisibleDeprecationWarning: using a non-integer number instead of an integer will result in an error in the future\n"
     ]
    },
    {
     "name": "stdout",
     "output_type": "stream",
     "text": [
      "Arm 1 = 2.0%\n",
      "Arm 2 = 2.0%\n",
      "Arm 3 = 2.0%\n",
      "Arm 4 = 91.0%\n",
      "Arm 5 = 3.0%\n",
      "Arm 6 = 0.0%\n",
      "Average reward = 0.856314222866\n",
      "Arm 1 = 1.0%\n",
      "Arm 2 = 2.5%\n",
      "Arm 3 = 3.0%\n",
      "Arm 4 = 91.0%\n",
      "Arm 5 = 2.0%\n",
      "Arm 6 = 0.5%\n",
      "Average reward = 0.843407711096\n",
      "Arm 1 = 1.0%\n",
      "Arm 2 = 3.0%\n",
      "Arm 3 = 2.66666666667%\n",
      "Arm 4 = 91.0%\n",
      "Arm 5 = 2.0%\n",
      "Arm 6 = 0.333333333333%\n",
      "Average reward = 0.868098295585\n",
      "Arm 1 = 1.25%\n",
      "Arm 2 = 3.25%\n",
      "Arm 3 = 2.25%\n",
      "Arm 4 = 90.25%\n",
      "Arm 5 = 2.0%\n",
      "Arm 6 = 1.0%\n",
      "Average reward = 0.967071942506\n",
      "Arm 1 = 1.0%\n",
      "Arm 2 = 2.8%\n",
      "Arm 3 = 2.2%\n",
      "Arm 4 = 90.2%\n",
      "Arm 5 = 2.4%\n",
      "Arm 6 = 1.4%\n",
      "Average reward = 1.02666364449\n",
      "Arm 1 = 0.833333333333%\n",
      "Arm 2 = 2.66666666667%\n",
      "Arm 3 = 2.16666666667%\n",
      "Arm 4 = 90.6666666667%\n",
      "Arm 5 = 2.33333333333%\n",
      "Arm 6 = 1.33333333333%\n",
      "Average reward = 1.06947047722\n",
      "Arm 1 = 1.0%\n",
      "Arm 2 = 2.42857142857%\n",
      "Arm 3 = 2.0%\n",
      "Arm 4 = 90.8571428571%\n",
      "Arm 5 = 2.0%\n",
      "Arm 6 = 1.71428571429%\n",
      "Average reward = 1.08469917202\n",
      "Arm 1 = 1.125%\n",
      "Arm 2 = 2.5%\n",
      "Arm 3 = 2.125%\n",
      "Arm 4 = 90.75%\n",
      "Arm 5 = 1.75%\n",
      "Arm 6 = 1.75%\n",
      "Average reward = 1.08184507207\n",
      "Arm 1 = 1.11111111111%\n",
      "Arm 2 = 2.66666666667%\n",
      "Arm 3 = 1.88888888889%\n",
      "Arm 4 = 91.0%\n",
      "Arm 5 = 1.66666666667%\n",
      "Arm 6 = 1.66666666667%\n",
      "Average reward = 1.07609235498\n",
      "Arm 1 = 1.2%\n",
      "Arm 2 = 2.8%\n",
      "Arm 3 = 1.7%\n",
      "Arm 4 = 91.0%\n",
      "Arm 5 = 1.6%\n",
      "Arm 6 = 1.7%\n",
      "Average reward = 1.11256397566\n"
     ]
    }
   ],
   "source": [
    "bandits.e_greedy(1000,100,0.1)"
   ]
  },
  {
   "cell_type": "code",
   "execution_count": null,
   "metadata": {
    "collapsed": true
   },
   "outputs": [],
   "source": []
  },
  {
   "cell_type": "code",
   "execution_count": null,
   "metadata": {
    "collapsed": true
   },
   "outputs": [],
   "source": []
  }
 ],
 "metadata": {
  "anaconda-cloud": {},
  "kernelspec": {
   "display_name": "Python [Root]",
   "language": "python",
   "name": "Python [Root]"
  },
  "language_info": {
   "codemirror_mode": {
    "name": "ipython",
    "version": 3
   },
   "file_extension": ".py",
   "mimetype": "text/x-python",
   "name": "python",
   "nbconvert_exporter": "python",
   "pygments_lexer": "ipython3",
   "version": "3.5.2"
  }
 },
 "nbformat": 4,
 "nbformat_minor": 0
}
