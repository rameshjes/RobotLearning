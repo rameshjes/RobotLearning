{
 "cells": [
  {
   "cell_type": "code",
   "execution_count": 4,
   "metadata": {
    "collapsed": true
   },
   "outputs": [],
   "source": [
    "import numpy as np"
   ]
  },
  {
   "cell_type": "code",
   "execution_count": 43,
   "metadata": {
    "collapsed": false
   },
   "outputs": [],
   "source": [
    "# Task 2.2\n",
    "def model_robability():\n",
    "    rewards = [8 ,6, 10, 2, 7]\n",
    "    probability = [0.35, 0.4, 0.15, 0.9, 0.4]\n",
    "    N = 6\n",
    "    task = np.array([[1,0],\n",
    "                     [2,0],\n",
    "                     [3,0],\n",
    "                     [4,0],\n",
    "                     [5,0]])\n",
    "    tasks = [0,1,2,3,4]\n",
    "    solved = []\n",
    "    solve = True\n",
    "    reward = 0\n",
    "    for i in range(N):\n",
    "        if solve:\n",
    "            if len(tasks)-1 == 0:\n",
    "                break\n",
    "            else:\n",
    "                num = np.random.randint(0,len(tasks)-1)\n",
    "                rand_task = tasks[num]\n",
    "        rand = np.random.rand()\n",
    "        # Task is solved\n",
    "        task[rand_task,1] += 1\n",
    "        if rand <= probability[rand_task]:\n",
    "            tasks.remove(rand_task)\n",
    "            solve = True\n",
    "            reward += rewards[rand_task]\n",
    "            solved.append(rand_task)\n",
    "#             print ('task',task)    \n",
    "        else:\n",
    "            solve = False\n",
    "    return [reward, solved]"
   ]
  },
  {
   "cell_type": "code",
   "execution_count": 44,
   "metadata": {
    "collapsed": false
   },
   "outputs": [
    {
     "name": "stdout",
     "output_type": "stream",
     "text": [
      "Mean reward = 12.108\n",
      "Aproximate probability of passing test = 0.25\n"
     ]
    }
   ],
   "source": [
    "rewards = []\n",
    "passed=0\n",
    "it = 1000\n",
    "for i in range(it):\n",
    "    reward,solved = model_robability()\n",
    "    rewards.append(reward)\n",
    "    if reward > 16:\n",
    "        passed+=1\n",
    "print('Mean reward = ' + str(np.mean(rewards)))\n",
    "probability_passing = passed/it\n",
    "print('Aproximate probability of passing test = ' + str(probability_passing))"
   ]
  },
  {
   "cell_type": "markdown",
   "metadata": {},
   "source": [
    "Here, our sample space contain tasks S = {task1,task2,task3,task4,task5} and to solve each task, we have actions A = {a0,a1,a2,a3,a4} with corresponding rewards. Now initially, there is equal probability of all tasks to be solved. If any task is solved, student gets reward and if not solved, he has chance to attempt. Number of total attempts = 6, therefore, reward points are added for all solved tasks. If total reward point is greater than 50%(16.5 points) then there are chances of being passed. \n",
    "\n",
    "In the above results for 1000 iterations, it is seen that, we are trying to choose task randomly, and compare probability of that task with random probability number. If that random number if greater than the probability, it means task is solved and student gets reward. This is performed 1000 times and average of all rewards is computed along with probability of passing test."
   ]
  },
  {
   "cell_type": "code",
   "execution_count": 57,
   "metadata": {
    "collapsed": false
   },
   "outputs": [],
   "source": [
    "# Task 2.3\n",
    "def policy(task_order):\n",
    "    rewards = [8 ,6, 10, 2, 7]\n",
    "    probability = [0.35, 0.4, 0.15, 0.9, 0.4]\n",
    "    N = 6\n",
    "    task = np.array([[1,0],\n",
    "                     [2,0],\n",
    "                     [3,0],\n",
    "                     [4,0],\n",
    "                     [5,0]])\n",
    "    tasks = task_order\n",
    "    solved = []\n",
    "    solve = True\n",
    "    reward = 0\n",
    "    for i in range(N):\n",
    "        if solve:\n",
    "            if len(tasks)-1 == 0:\n",
    "                break\n",
    "        rand = np.random.rand()\n",
    "        task_num = tasks[0]\n",
    "        task[task_num,1] += 1\n",
    "        # Task is solved\n",
    "        if rand <= probability[task_num]:\n",
    "            tasks.remove(task_num)\n",
    "            solve = True\n",
    "            reward += rewards[task_num]\n",
    "            solved.append(task_num)\n",
    "        else:\n",
    "            solve = False\n",
    "    return [reward, solved]\n",
    "    \n"
   ]
  },
  {
   "cell_type": "code",
   "execution_count": 72,
   "metadata": {
    "collapsed": false
   },
   "outputs": [
    {
     "name": "stdout",
     "output_type": "stream",
     "text": [
      "Mean reward = 14.002\n",
      "Aproximate probability of passing test = 0.199\n"
     ]
    }
   ],
   "source": [
    "#Policy A\n",
    "rewards = []\n",
    "passed=0\n",
    "it = 1000\n",
    "for i in range(it):\n",
    "    reward,solved = policy([0,1,2,3,4])\n",
    "    rewards.append(reward)\n",
    "    if reward > 16:\n",
    "        passed+=1\n",
    "print('Mean reward = ' + str(np.mean(rewards)))\n",
    "probability_passing = passed/it\n",
    "print('Aproximate probability of passing test = ' + str(probability_passing))"
   ]
  },
  {
   "cell_type": "code",
   "execution_count": 73,
   "metadata": {
    "collapsed": false
   },
   "outputs": [
    {
     "name": "stdout",
     "output_type": "stream",
     "text": [
      "Mean reward = 14.528\n",
      "Aproximate probability of passing test = 0.278\n"
     ]
    }
   ],
   "source": [
    "#Policy B\n",
    "rewards = []\n",
    "passed=0\n",
    "it = 1000\n",
    "for i in range(it):\n",
    "    reward,solved = policy([3,4,1,0,2])\n",
    "    rewards.append(reward)\n",
    "    if reward > 16:\n",
    "        passed+=1\n",
    "print('Mean reward = ' + str(np.mean(rewards)))\n",
    "probability_passing = passed/it\n",
    "print('Aproximate probability of passing test = ' + str(probability_passing))"
   ]
  },
  {
   "cell_type": "code",
   "execution_count": 115,
   "metadata": {
    "collapsed": false
   },
   "outputs": [
    {
     "name": "stdout",
     "output_type": "stream",
     "text": [
      "Mean reward = 10.987\n",
      "Aproximate probability of passing test = 0.391\n"
     ]
    }
   ],
   "source": [
    "#Task 2.4\n",
    "#Improved Policy\n",
    "rewards = []\n",
    "passed=0\n",
    "it = 1000\n",
    "for i in range(it):\n",
    "    reward,solved = policy([2,0,4,1,3])\n",
    "    rewards.append(reward)\n",
    "    if reward > 16:\n",
    "        passed+=1\n",
    "print('Mean reward = ' + str(np.mean(rewards)))\n",
    "probability_passing = passed/it\n",
    "print('Aproximate probability of passing test = ' + str(probability_passing))"
   ]
  },
  {
   "cell_type": "code",
   "execution_count": null,
   "metadata": {
    "collapsed": true
   },
   "outputs": [],
   "source": []
  }
 ],
 "metadata": {
  "anaconda-cloud": {},
  "kernelspec": {
   "display_name": "Python [Root]",
   "language": "python",
   "name": "Python [Root]"
  },
  "language_info": {
   "codemirror_mode": {
    "name": "ipython",
    "version": 2
   },
   "file_extension": ".py",
   "mimetype": "text/x-python",
   "name": "python",
   "nbconvert_exporter": "python",
   "pygments_lexer": "ipython2",
   "version": "2.7.12"
  }
 },
 "nbformat": 4,
 "nbformat_minor": 0
}
