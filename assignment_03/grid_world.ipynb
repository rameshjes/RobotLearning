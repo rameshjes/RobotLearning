{
 "cells": [
  {
   "cell_type": "code",
   "execution_count": 1,
   "metadata": {
    "collapsed": true
   },
   "outputs": [],
   "source": [
    "import numpy as np"
   ]
  },
  {
   "cell_type": "code",
   "execution_count": 139,
   "metadata": {
    "collapsed": false
   },
   "outputs": [
    {
     "name": "stdout",
     "output_type": "stream",
     "text": [
      "0\n",
      "1\n"
     ]
    }
   ],
   "source": [
    "grid = np.array([[0,0,0,0,0,0,0,0,0],\n",
    "                    [0,1,1,1,1,2,0,0,0],\n",
    "                    [0,2,2,2,0,2,2,0,0],\n",
    "                    [0,0,0,0,0,0,0,2,0],\n",
    "                    [0,0,2,2,2,2,0,2,0],\n",
    "                    [0,0,0,0,0,0,0,2,0],\n",
    "                    [0,2,2,2,0,2,2,0,0],\n",
    "                    [0,0,0,0,0,0,0,0,3],\n",
    "                    [0,1,1,1,2,1,1,0,2]]) \n",
    "rewards = {0:-1, 1:5, 2:-20, 3:100}\n",
    "actions = np.array([[1, 1/8],[2, 1/8], [3, 5/8],[4, 1/8]]) # up, right, down, left\n",
    "gama = 0.9\n",
    "threshold = 0.01\n",
    "n =9\n",
    "states = n*n\n",
    "V = np.zeros(states)\n",
    "Vnew = np.zeros(states)\n",
    "iterate=True\n",
    "\n",
    "def get_next_state(row,col,a):\n",
    "    # going up\n",
    "    if a == 1:\n",
    "        # if state is in row 0 it stays in same row\n",
    "        if row == 0:\n",
    "            r = row\n",
    "            c = col\n",
    "            reward = -10\n",
    "        else:\n",
    "            # if next state is not reachable\n",
    "            reward = rewards[grid[row-1,col]]\n",
    "            if grid[row-1,col] == 2:\n",
    "                r = row\n",
    "                c = col\n",
    "            # if next state is reachable and no obstacle\n",
    "            else:\n",
    "                r = row-1\n",
    "                c = col\n",
    "    # go right\n",
    "    elif a == 2:\n",
    "        # if state is in last column it stays in same column\n",
    "        if col == 8:\n",
    "            r = row\n",
    "            c = col\n",
    "            reward = -10\n",
    "        else:\n",
    "            # if next state is not reachable\n",
    "            reward = rewards[grid[row,col+1]]\n",
    "            if grid[row,col+1] == 2:\n",
    "                r = row\n",
    "                c = col\n",
    "            # if next state is reachable and no obstacle\n",
    "            else:\n",
    "                r = row\n",
    "                c = col+1\n",
    "    # go down\n",
    "    elif a == 3:\n",
    "        # if state is in row 8 it stays in same row\n",
    "        if row == 8:\n",
    "            r = row\n",
    "            c = col\n",
    "            reward = -10\n",
    "        else:\n",
    "            # if next state is not reachable\n",
    "            reward = rewards[grid[row+1,col]]\n",
    "            if grid[row+1,col] == 2:\n",
    "                r = row\n",
    "                c = col\n",
    "                reward = rewards[grid[r+1,c]]\n",
    "            # if next state is reachable and no obstacle\n",
    "            else:\n",
    "                r = row+1\n",
    "                c = col\n",
    "                reward = rewards[grid[r,c]]\n",
    "    # go left\n",
    "    elif a == 4:\n",
    "        # if state is in first column it stays in same column\n",
    "        if col == 0:\n",
    "            r = row\n",
    "            c = col\n",
    "            reward = -10\n",
    "        else:\n",
    "            # if next state is not reachable\n",
    "            reward = rewards[grid[row,col-1]]\n",
    "            if grid[row,col-1] == 2:\n",
    "                r = row\n",
    "                c = col\n",
    "            # if next state is reachable and no obstacle\n",
    "            else:\n",
    "                r = row\n",
    "                c = col-1\n",
    "    return r,c,reward\n",
    "\n",
    "def get_value(row,col,V):\n",
    "    index = row*9 + col\n",
    "    return V[index]\n",
    "\n",
    "\n",
    "# for count in range(0,10):\n",
    "count = 0\n",
    "iterate = True\n",
    "while iterate:\n",
    "    print(count)\n",
    "    delta = 0\n",
    "    for i in range(states):\n",
    "#         print(i)\n",
    "        row = i % n\n",
    "        col = int(i / n)\n",
    "        s = grid[row,col]\n",
    "        if s != 2 and s != 3:\n",
    "            for j in range(1,4): # for each action\n",
    "                r,c,reward = get_next_state(row,col,j) # get next state and reward\n",
    "                next_v = get_value(r,c,V) # get value from nest state\n",
    "                prob = actions[j-1,1] # probability of action\n",
    "                Vnew[i]  += prob*(reward + gama*next_v)\n",
    "#             print('vnew ' + str(Vnew[i]) + ' vold ' + str(V[i]) )\n",
    "            delta = max(delta, np.abs(V[i] - Vnew[i]))\n",
    "#             print('delta = ' + str(delta) + ' v = ' + str(np.abs(V[i] - Vnew[i])))\n",
    "    V[:]  = Vnew[:]\n",
    "    count += 1\n",
    "    if delta < threshold:\n",
    "        break\n",
    "    if count > 1:\n",
    "        break\n",
    "\n",
    "V.shape = (n,n)"
   ]
  },
  {
   "cell_type": "code",
   "execution_count": 142,
   "metadata": {
    "collapsed": false
   },
   "outputs": [
    {
     "name": "stdout",
     "output_type": "stream",
     "text": [
      "2\n",
      "54.7546875\n",
      "[[  -3.2546875   -3.6296875    3.0359375    1.475        1.475      -28.70625\n",
      "    -4.4640625   -4.4640625  -10.778125 ]\n",
      " [  -0.840625   -30.7640625  -24.73125    -26.2921875   -6.9640625    0.\n",
      "   -25.809375    -2.2140625   -8.528125 ]\n",
      " [  -5.121875     0.           0.           0.          -5.365625     0.\n",
      "     0.         -25.809375   -10.2859375]\n",
      " [  -1.91875     -9.678125   -31.9515625  -40.459375   -27.2015625\n",
      "   -40.459375   -13.078125     0.          -5.6453125]\n",
      " [  -9.7234375   -8.215625     0.           0.           0.           0.\n",
      "    -6.865625     0.          -8.2328125]\n",
      " [  -2.678125   -25.865625   -31.9515625  -40.459375   -10.0296875\n",
      "   -40.459375   -30.615625     0.          -8.303125 ]\n",
      " [  -9.4109375    0.           0.           0.          -6.865625     0.\n",
      "     0.          -0.565625   115.8796875]\n",
      " [  -3.83125     -1.6578125   -1.559375    -0.125      -25.865625\n",
      "    -0.490625    36.3390625   22.5578125    0.       ]\n",
      " [ -13.7078125  -12.9484375  -14.284375   -19.1          0.          -5.7484375\n",
      "    21.0171875  -16.428125     0.       ]]\n"
     ]
    }
   ],
   "source": [
    "\n",
    "print(count)\n",
    "print(delta)\n",
    "print(V.T)"
   ]
  },
  {
   "cell_type": "code",
   "execution_count": null,
   "metadata": {
    "collapsed": true
   },
   "outputs": [],
   "source": []
  },
  {
   "cell_type": "code",
   "execution_count": null,
   "metadata": {
    "collapsed": true
   },
   "outputs": [],
   "source": []
  },
  {
   "cell_type": "code",
   "execution_count": null,
   "metadata": {
    "collapsed": true
   },
   "outputs": [],
   "source": []
  }
 ],
 "metadata": {
  "anaconda-cloud": {},
  "kernelspec": {
   "display_name": "Python [Root]",
   "language": "python",
   "name": "Python [Root]"
  },
  "language_info": {
   "codemirror_mode": {
    "name": "ipython",
    "version": 3
   },
   "file_extension": ".py",
   "mimetype": "text/x-python",
   "name": "python",
   "nbconvert_exporter": "python",
   "pygments_lexer": "ipython3",
   "version": "3.5.2"
  }
 },
 "nbformat": 4,
 "nbformat_minor": 0
}
