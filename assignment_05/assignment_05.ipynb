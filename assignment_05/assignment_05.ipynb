{
 "cells": [
  {
   "cell_type": "markdown",
   "metadata": {},
   "source": [
    "# RL Assignment 05\n",
    "\n",
    "Roberto Cai Wu / Ramesh Kumar"
   ]
  },
  {
   "cell_type": "code",
   "execution_count": 1,
   "metadata": {
    "collapsed": true
   },
   "outputs": [],
   "source": [
    "import numpy as np\n",
    "import pandas as pd\n",
    "import matplotlib.pyplot as plt"
   ]
  },
  {
   "cell_type": "code",
   "execution_count": 2,
   "metadata": {
    "collapsed": false
   },
   "outputs": [],
   "source": [
    "class BlackJack(object):\n",
    "    def __init__(self):\n",
    "        self.r = [1, 0, -1]\n",
    "        self.a = ['hit', 'stick']\n",
    "        self.episodes = 1100\n",
    "        self.N0 = 50\n",
    "        self.gamma = 1\n",
    "        self.d_intervals = [[1,4],[4,7],[7,10]]\n",
    "        self.p_intervals = [[1,6],[4,9],[7,12],[10,15],[13,18],[16,21]]\n",
    "        \n",
    "    def draw_card(self):\n",
    "        card = np.random.randint(1,11)\n",
    "        if card > 10:\n",
    "            card = 10\n",
    "        return card\n",
    "    \n",
    "    def check_sum(self, cards):\n",
    "        ace = False\n",
    "        total = 0\n",
    "        for i in range(len(cards)):\n",
    "            if cards[i] == 1:\n",
    "                ace = True\n",
    "            total += cards[i] \n",
    "        \n",
    "        if ace:\n",
    "            if total < 12:\n",
    "                total += 10\n",
    "        \n",
    "        return total\n",
    "        \n",
    "    def deal_to_player(self):\n",
    "        cards = []\n",
    "        for i in range(2):\n",
    "            cards.append(self.draw_card())\n",
    "        return self.check_sum(cards)\n",
    "    \n",
    "    def play_dealer(self, card, player_sum):\n",
    "        cards = []\n",
    "        cards.append(card)\n",
    "        while self.check_sum(cards) < 17:\n",
    "            cards.append(self.draw_card())\n",
    "        return self.check_sum(cards)\n",
    "    \n",
    "    def start_game(self):\n",
    "        player_sum = self.deal_to_player()\n",
    "        dealer_card = self.draw_card()\n",
    "        return [dealer_card, player_sum]\n",
    "    \n",
    "    def advance(self, s, a):\n",
    "        terminal = False\n",
    "        if a == 'hit':\n",
    "            card = self.draw_card()\n",
    "            if card == 1:\n",
    "                if s[1] < 11:\n",
    "                    s[1] += 11\n",
    "                else:\n",
    "                    s[1] += 1\n",
    "            else:\n",
    "                s[1] += card         \n",
    "            if s[1] > 21:\n",
    "                terminal = True\n",
    "                r = -1\n",
    "            else: \n",
    "                r = 0\n",
    "        else:\n",
    "            terminal = True\n",
    "            dealer_sum = self.play_dealer(s[0],s[1])\n",
    "            if dealer_sum > s[1]:\n",
    "                r = -1\n",
    "            elif dealer_sum == s[1]:\n",
    "                r = 0\n",
    "            else:\n",
    "                r = 1\n",
    "        return terminal,s,r\n",
    "    \n",
    "    def get_greedy_action(self, s):\n",
    "        greedy_a = np.argmax(self.Q[s[0]-1,s[1]-1,:])\n",
    "        return greedy_a\n",
    "    \n",
    "                \n",
    "    def sarsa_lambda(self):\n",
    "\n",
    "        \n",
    "        l = 0\n",
    "        l_ind = 0\n",
    "        rewards = np.zeros(11)\n",
    "        while l <= 1:\n",
    "            self.Q = np.zeros([10,21,2])\n",
    "            self.Ns = np.zeros([10,21])\n",
    "            self.Nsa = np.zeros([10,21,2])\n",
    "            self.e = np.zeros([10,21,2])\n",
    "            acum_reward = 0\n",
    "            for i in range(1100):\n",
    "                s = self.start_game()\n",
    "                a_ind = np.random.randint(0,2)\n",
    "                self.Ns[s[0]-1, s[1]-1] += 1\n",
    "                self.Nsa[s[0]-1, s[1]-1, a_ind] += 1\n",
    "                not_terminal = True\n",
    "                while not_terminal:\n",
    "                    terminal,ns,r = self.advance(s,self.a[a_ind])\n",
    "                    if i >= 1000:\n",
    "                        acum_reward += r\n",
    "                        \n",
    "                    if ns[1] > 21:\n",
    "                        break\n",
    "                    \n",
    "                    if terminal:\n",
    "                        not_terminal = False\n",
    "                    \n",
    "                    epsilon = self.N0 / (self.N0 + self.Ns[ns[0]-1,ns[1]-1])\n",
    "\n",
    "                    if i < 1000:\n",
    "                        rand_a = np.random.random()\n",
    "                        if rand_a < epsilon:\n",
    "                            na_ind = np.random.randint(0,2)\n",
    "                        else:\n",
    "                            na_ind = self.get_greedy_action(ns)\n",
    "                        \n",
    "                        self.Ns[ns[0]-1, ns[1]-1] += 1\n",
    "                        self.Nsa[ns[0]-1, ns[1]-1, na_ind] += 1\n",
    "\n",
    "\n",
    "                        delta = r + self.Q[ns[0]-1, ns[1]-1, na_ind] - self.Q[s[0]-1, s[1]-1, a_ind]\n",
    "\n",
    "                        self.e[s[0]-1, s[1]-1, a_ind] += 1\n",
    "\n",
    "\n",
    "                        alpha = 1/self.Nsa[ns[0]-1, ns[1]-1, na_ind] \n",
    "\n",
    "                        self.Q += alpha*delta*self.e\n",
    "                        self.e = self.gamma*l*self.e\n",
    "\n",
    "\n",
    "\n",
    "                    else:\n",
    "                        na_ind = self.get_greedy_action(ns)\n",
    "                    s = ns\n",
    "                    a_ind = na_ind\n",
    "                    \n",
    "            rewards[l_ind] = acum_reward\n",
    "            l += 0.1\n",
    "            l_ind += 1\n",
    "        l = np.linspace(0, 1, num=11)\n",
    "        return l,rewards        \n",
    "    \n",
    "    def feature_vector(self, s, a):\n",
    "        features = []\n",
    "        for i in range(len(self.p_intervals)):\n",
    "            for j in range(len(self.d_intervals)):\n",
    "                p = self.p_intervals[i]\n",
    "                d = self.d_intervals[j]\n",
    "                if p[0] <= s[1] <= p[1] and d[0] <= s[0] <= d[1]:\n",
    "                    features.append(1)\n",
    "                else:\n",
    "                    features.append(0)\n",
    "\n",
    "        if a == 'hit':\n",
    "            return np.concatenate([np.array(features), np.zeros(18)])\n",
    "        else:\n",
    "            return np.concatenate([np.zeros(18),np.array(features)])\n",
    "        \n",
    "    def value_function_approximator(self):\n",
    "        l = 0\n",
    "        l_ind = 0\n",
    "        rewards = np.zeros(11)\n",
    "        epsilon = 0.05\n",
    "        alpha = 0.01\n",
    "        while l <= 1:\n",
    "            self.theta = np.random.random(36)*0.5\n",
    "            acum_reward = 0\n",
    "            for i in range(1100):\n",
    "                s = self.start_game()\n",
    "                a_ind = np.random.randint(0,2)\n",
    "                self.e = np.zeros(36)\n",
    "                phi = self.feature_vector(s,self.a[a_ind])\n",
    "                \n",
    "                not_terminal = True\n",
    "                while not_terminal:\n",
    "                    self.e[phi==1] += 1\n",
    "                    \n",
    "                    terminal,ns,r = self.advance(s,self.a[a_ind])\n",
    "                    if i >= 1000:\n",
    "                        acum_reward += r\n",
    "                        \n",
    "                    if ns[1] > 21:\n",
    "                        break\n",
    "                    \n",
    "                    if terminal:\n",
    "                        not_terminal = False\n",
    "\n",
    "                    if i < 1000:\n",
    "                        delta = r + phi*self.theta.T                 \n",
    "                        \n",
    "                        rand_a = np.random.random()\n",
    "                        if rand_a < 1-epsilon:\n",
    "                            Qa = float(-100000)\n",
    "                            for act in range(len(self.a)):\n",
    "                                phi_curr = self.feature_vector(ns,self.a[act])\n",
    "                                Q =  sum(self.theta*phi_curr)\n",
    "                                if Q > Qa:\n",
    "                                    Qa = Q\n",
    "                                    na_ind = act\n",
    "                                    phi = phi_curr\n",
    "                        else:\n",
    "                            na_ind = np.random.randint(0,2)\n",
    "                            phi = self.feature_vector(ns,na_ind)\n",
    "                            Qa = sum(self.theta*phi)\n",
    "                        \n",
    "                        delta += self.gamma*Qa\n",
    "                        self.theta += alpha*delta*self.e\n",
    "                        self.e = self.gamma*l*self.e\n",
    "\n",
    "                    else:\n",
    "                        Qa = float(-100000)\n",
    "                        for act in range(len(self.a)):\n",
    "                            phi_curr = self.feature_vector(ns,self.a[act])\n",
    "                            Q =  sum(self.theta*phi_curr)\n",
    "                            if Q > Qa:\n",
    "                                Qa = Q\n",
    "                                na_ind = act\n",
    "                                phi = phi_curr\n",
    "                    s = ns\n",
    "                    a_ind = na_ind\n",
    "                    \n",
    "            rewards[l_ind] = acum_reward\n",
    "            l += 0.1\n",
    "            l_ind += 1\n",
    "        l = np.linspace(0, 1, num=11)\n",
    "        return l,rewards "
   ]
  },
  {
   "cell_type": "code",
   "execution_count": 3,
   "metadata": {
    "collapsed": false
   },
   "outputs": [],
   "source": [
    "b = BlackJack()"
   ]
  },
  {
   "cell_type": "code",
   "execution_count": 4,
   "metadata": {
    "collapsed": false
   },
   "outputs": [
    {
     "data": {
      "text/plain": [
       "array([-83., -82., -84., -82., -86., -78., -72., -85., -81., -83., -86.])"
      ]
     },
     "execution_count": 4,
     "metadata": {},
     "output_type": "execute_result"
    }
   ],
   "source": [
    "l,r = b.sarsa_lambda()\n",
    "r"
   ]
  },
  {
   "cell_type": "code",
   "execution_count": 5,
   "metadata": {
    "collapsed": false
   },
   "outputs": [
    {
     "data": {
      "text/plain": [
       "[<matplotlib.lines.Line2D at 0x7f34ea50e470>]"
      ]
     },
     "execution_count": 5,
     "metadata": {},
     "output_type": "execute_result"
    },
    {
     "data": {
      "image/png": "[encoded data removed]",
      "text/plain": [
       "<matplotlib.figure.Figure at 0x7f34ec9fe8d0>"
      ]
     },
     "metadata": {},
     "output_type": "display_data"
    }
   ],
   "source": [
    "%matplotlib inline\n",
    "plt.plot(l,r)"
   ]
  },
  {
   "cell_type": "code",
   "execution_count": 6,
   "metadata": {
    "collapsed": false
   },
   "outputs": [
    {
     "data": {
      "text/plain": [
       "array([-73., -57., -87., -73., -63., -79., -76., -70., -85., -79., -72.])"
      ]
     },
     "execution_count": 6,
     "metadata": {},
     "output_type": "execute_result"
    }
   ],
   "source": [
    "l,r = b.value_function_approximator()\n",
    "r"
   ]
  },
  {
   "cell_type": "code",
   "execution_count": 7,
   "metadata": {
    "collapsed": false
   },
   "outputs": [
    {
     "data": {
      "text/plain": [
       "[<matplotlib.lines.Line2D at 0x7f34e9fa8a90>]"
      ]
     },
     "execution_count": 7,
     "metadata": {},
     "output_type": "execute_result"
    },
    {
     "data": {
      "image/png": "[encoded data removed]",
      "text/plain": [
       "<matplotlib.figure.Figure at 0x7f34ea4f42e8>"
      ]
     },
     "metadata": {},
     "output_type": "display_data"
    }
   ],
   "source": [
    "%matplotlib inline\n",
    "plt.plot(l,r)"
   ]
  },
  {
   "cell_type": "code",
   "execution_count": null,
   "metadata": {
    "collapsed": true
   },
   "outputs": [],
   "source": []
  }
 ],
 "metadata": {
  "anaconda-cloud": {},
  "kernelspec": {
   "display_name": "Python [Root]",
   "language": "python",
   "name": "Python [Root]"
  },
  "language_info": {
   "codemirror_mode": {
    "name": "ipython",
    "version": 3
   },
   "file_extension": ".py",
   "mimetype": "text/x-python",
   "name": "python",
   "nbconvert_exporter": "python",
   "pygments_lexer": "ipython3",
   "version": "3.5.2"
  }
 },
 "nbformat": 4,
 "nbformat_minor": 0
}
