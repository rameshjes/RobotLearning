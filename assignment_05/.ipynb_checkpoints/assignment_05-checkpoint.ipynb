{
 "cells": [
  {
   "cell_type": "markdown",
   "metadata": {},
   "source": [
    "# RL Assignment 05\n",
    "\n",
    "Roberto Cai Wu / Ramesh Kumar"
   ]
  },
  {
   "cell_type": "code",
   "execution_count": 5,
   "metadata": {
    "collapsed": true
   },
   "outputs": [],
   "source": [
    "import numpy as np\n",
    "import pandas as pd\n",
    "import matplotlib.pyplot as plt"
   ]
  },
  {
   "cell_type": "markdown",
   "metadata": {},
   "source": [
    "# Game rules\n",
    "* The game is played with an infinite deck of cards (i.e. cards are sampled with replacement)\n",
    "* Each draw from the deck results in a value between 1 and 10 (uniformly dis tributed) with a color of red (probability 1/3) or black (probability 2/3).\n",
    "* There are no aces or picture (face) cards in this game\n",
    "* At the start of the game both the player and the dealer draw one black card (fully observed)\n",
    "* Each turn the player may either stick or hit\n",
    "* If the player hits then he or she draws another card from the deck\n",
    "* If the player sticks he or she receives no further cards\n",
    "* The values of the player's cards are added (black cards) or subtracted (red cards)\n",
    "* If the player's sum exceeds 21, or becomes less than 1, then she \\goes bust\" and loses the game (reward -1)\n",
    "* If the player sticks then the dealer starts taking turns. The dealer always sticks on any sum of 17 or greater, and hits otherwise.\n",
    "* If the dealer goes bust, then the player wins; otherwise, the outcome { win (reward +1), lose (reward -1), or draw (reward 0) } is the player with the largest sum."
   ]
  },
  {
   "cell_type": "code",
   "execution_count": 158,
   "metadata": {
    "collapsed": true
   },
   "outputs": [],
   "source": [
    "class BlackJack(object):\n",
    "    def __init__(self):\n",
    "        self.r = [1, 0, -1] # rewards 1 for win, 0 for draw, -1 for loss\n",
    "        self.a = ['hit', 'stick'] # actions \n",
    "        self.color = np.array([[0, 1/3], [1, 2/3]]) # 0: red, 1: black\n",
    "        self.episodes = 1100\n",
    "        self.N0 = 50\n",
    "        self.gamma = 1\n",
    "        self.d_intervals = [[1,4],[4,7],[7,10]] # cuboid intervals for dealer\n",
    "        self.p_intervals = [[1,6],[4,9],[7,12],[10,15],[13,18],[16,21]] # cuboid intervals for player\n",
    "        \n",
    "    # Draw card from 1 to 10 and the corresponding color\n",
    "    def draw_card(self):\n",
    "        card_val = np.random.randint(1,11)\n",
    "        rand_col = np.random.random()\n",
    "        if rand_col < self.color[0,1]:\n",
    "            card_col = 0\n",
    "        else:\n",
    "            card_col = 1\n",
    "        card = [card_val,card_col]\n",
    "        return card\n",
    "    \n",
    "    # check sum of all cards\n",
    "    def check_sum(self, cards):\n",
    "        ace = False\n",
    "        total = 0\n",
    "        for i in range(len(cards)):\n",
    "            card = cards[i]\n",
    "            # red card\n",
    "            if card[1] == 0:\n",
    "                total -= card[0]\n",
    "            # black card\n",
    "            else:\n",
    "                total += card[0]\n",
    "        return total\n",
    "    \n",
    "    # player turn to draw card\n",
    "    def deal_to_player(self):\n",
    "        cards = []\n",
    "        cards.append(self.draw_card())\n",
    "        return self.check_sum(cards)\n",
    "    \n",
    "    # Dealer turn to draw card. Dealer will draw cards until it reaches a sum of 17 or greater.\n",
    "    # It was not explicitly mentioned if dealer goes bust if dealer sum becomes < 1, but we did \n",
    "    # include it.\n",
    "    def play_dealer(self, card, player_sum):\n",
    "        cards = []\n",
    "        cards.append(card)\n",
    "        while self.check_sum(cards) > 0 and self.check_sum(cards) < 17:\n",
    "            cards.append(self.draw_card())\n",
    "        return self.check_sum(cards)\n",
    "    \n",
    "    # Start game with sum of player's card and dealer card (always starting with black card, \n",
    "    # meaning it will always start as a positive number)\n",
    "    def start_game(self):\n",
    "        player_sum = np.abs(self.deal_to_player())\n",
    "        dealer_card = self.draw_card()[0]\n",
    "        return [dealer_card, player_sum]\n",
    "    \n",
    "    # Advance recceives the current state and chosen action to get the next state, reward, and\n",
    "    # wether the next state is terminal or not\n",
    "    def advance(self, s, a):\n",
    "        terminal = False\n",
    "        if a == 'hit':\n",
    "            card = self.draw_card()\n",
    "            if card[0] == 0:\n",
    "                s[1] += card[0]\n",
    "            else:\n",
    "                s[1] -= card[0]   \n",
    "            # Player goes bust\n",
    "            if s[1] < 1 or s[1] > 21:\n",
    "                terminal = True\n",
    "                r = -1\n",
    "            # Player still in the game\n",
    "            else: \n",
    "                r = 0\n",
    "        # action stick\n",
    "        else:\n",
    "            terminal = True\n",
    "            dealer_sum = self.play_dealer([s[0],1],s[1])\n",
    "            # Dealer goes bust\n",
    "            if dealer_sum < 0 or dealer_sum > 21:\n",
    "                r = 1\n",
    "            # Neither player nor dealer go bust \n",
    "            else:\n",
    "                if dealer_sum > s[1]:\n",
    "                    r = -1\n",
    "                elif dealer_sum == s[1]:\n",
    "                    r = 0\n",
    "                else:\n",
    "                    r = 1\n",
    "        return terminal,s,r\n",
    "    \n",
    "    # greedy action\n",
    "    def get_greedy_action(self, s):\n",
    "        greedy_a = np.argmax(self.Q[s[0]-1,s[1]-1,:])\n",
    "        return greedy_a\n",
    "    \n",
    "    # Sarsa lambda algorithm\n",
    "    \n",
    "    def sarsa_lambda(self):\n",
    "\n",
    "        l = 0\n",
    "        l_ind = 0\n",
    "        rewards = np.zeros(11)\n",
    "        # Loop continues with lambda between 0 to 1 with increment of 0.1 \n",
    "        while l <= 1:\n",
    "            # initialize values for Q, Ns(Number of time states visited), Nsa(total number of states with action)\n",
    "            self.Q = np.zeros([10,21,2])\n",
    "            self.Ns = np.zeros([10,21])\n",
    "            self.Nsa = np.zeros([10,21,2])\n",
    "            self.e = np.zeros([10,21,2])\n",
    "            acum_reward = 0\n",
    "            for i in range(1100):\n",
    "                s = self.start_game()\n",
    "                a_ind = np.random.randint(0,2)\n",
    "                self.Ns[s[0]-1, s[1]-1] += 1\n",
    "                self.Nsa[s[0]-1, s[1]-1, a_ind] += 1\n",
    "                not_terminal = True\n",
    "                while not_terminal:\n",
    "                    terminal,ns,r = self.advance(s,self.a[a_ind])\n",
    "                    # accumulate reward after learning for 1000 episodes\n",
    "                    if i >= 1000:\n",
    "                        acum_reward += r\n",
    "            \n",
    "                    if ns[1] < 1 or ns[1] > 21:\n",
    "                        break\n",
    "                    \n",
    "                    if terminal:\n",
    "                        not_terminal = False\n",
    "                    epsilon = self.N0 / (self.N0 + self.Ns[ns[0]-1,ns[1]-1])\n",
    "                    # explore for first 1000 episodes\n",
    "                    if i < 1000:\n",
    "                        rand_a = np.random.random()\n",
    "                        # explore if less than epsilon\n",
    "                        if rand_a < epsilon:\n",
    "                            na_ind = np.random.randint(0,2)\n",
    "                        # choose greedy action\n",
    "                        else:\n",
    "                            na_ind = self.get_greedy_action(ns)\n",
    "                        # update number of times state visited \n",
    "                        self.Ns[ns[0]-1, ns[1]-1] += 1\n",
    "                        self.Nsa[ns[0]-1, ns[1]-1, na_ind] += 1\n",
    "                        \n",
    "                        # compute delta\n",
    "                        delta = r + self.Q[ns[0]-1, ns[1]-1, na_ind] - self.Q[s[0]-1, s[1]-1, a_ind]\n",
    "\n",
    "                        self.e[s[0]-1, s[1]-1, a_ind] += 1\n",
    "\n",
    "                        alpha = 1/self.Nsa[ns[0]-1, ns[1]-1, na_ind] \n",
    "                        # Update Q value \n",
    "                        self.Q += alpha*delta*self.e\n",
    "                        \n",
    "                        self.e = self.gamma*l*self.e\n",
    "\n",
    "                    else:\n",
    "                        na_ind = self.get_greedy_action(ns)\n",
    "                    # update state and action\n",
    "                    s = ns\n",
    "                    a_ind = na_ind\n",
    "                    \n",
    "            rewards[l_ind] = acum_reward\n",
    "            # increment lambda by 0.1\n",
    "            l += 0.1\n",
    "            l_ind += 1\n",
    "        l = np.linspace(0, 1, num=11)\n",
    "        return l,rewards        \n",
    "    \n",
    "    # compute feature vector\n",
    "    def feature_vector(self, s, a):\n",
    "        features = []\n",
    "        for i in range(len(self.p_intervals)):\n",
    "            for j in range(len(self.d_intervals)):\n",
    "                p = self.p_intervals[i]\n",
    "                d = self.d_intervals[j]\n",
    "                if p[0] <= s[1] <= p[1] and d[0] <= s[0] <= d[1]:\n",
    "                    features.append(1)\n",
    "                else:\n",
    "                    features.append(0)\n",
    "\n",
    "        if a == 'hit':\n",
    "            return np.concatenate([np.array(features), np.zeros(18)])\n",
    "        else:\n",
    "            return np.concatenate([np.zeros(18),np.array(features)])\n",
    "    \n",
    "    # Linear gradient descent \n",
    "    \n",
    "    def value_function_approximator(self):\n",
    "        \n",
    "        l = 0\n",
    "        l_ind = 0\n",
    "        rewards = np.zeros(11) # rewards for each lambda\n",
    "        epsilon = 0.05 # constant exploration \n",
    "        alpha = 0.01 # constant step size\n",
    "        # loop untill lambda equal to 1 with increment of 0.1\n",
    "        while l <= 1:\n",
    "            # initialize theta arbitrary\n",
    "            self.theta = np.random.random(36)*0.5\n",
    "            acum_reward = 0\n",
    "            \n",
    "            for i in range(1100):\n",
    "                s = self.start_game()\n",
    "                # choose action between 0 and 1 \n",
    "                a_ind = np.random.randint(0,2)\n",
    "                # intialize e \n",
    "                self.e = np.zeros(36)\n",
    "                \n",
    "                phi = self.feature_vector(s,self.a[a_ind])\n",
    "                \n",
    "                not_terminal = True\n",
    "                while not_terminal:\n",
    "                    self.e[phi==1] += 1  # accumulate traces\n",
    "                    \n",
    "                    terminal,ns,r = self.advance(s,self.a[a_ind])\n",
    "                    if i >= 1000:\n",
    "                        acum_reward += r\n",
    "                        \n",
    "                    if ns[1] > 21:\n",
    "                        break\n",
    "                    \n",
    "                    if terminal:\n",
    "                        not_terminal = False\n",
    "                    \n",
    "                    if i < 1000:\n",
    "                        # compute delta\n",
    "                        delta = r - phi*self.theta.T                 \n",
    "                        \n",
    "                        rand_a = np.random.random()\n",
    "                        # probability less than 1- episoln\n",
    "                        if rand_a < 1-epsilon:\n",
    "                            Qa = float(-100000)\n",
    "                            for act in range(len(self.a)):\n",
    "                                # compute phi and Q\n",
    "                                phi_curr = self.feature_vector(ns,self.a[act])\n",
    "                                Q =  sum(self.theta*phi_curr)\n",
    "                                if Q > Qa:\n",
    "                                    Qa = Q\n",
    "                                    na_ind = act\n",
    "                                    phi = phi_curr\n",
    "                        else:\n",
    "                            na_ind = np.random.randint(0,2)\n",
    "                            phi = self.feature_vector(ns,na_ind)\n",
    "                            Qa = sum(self.theta*phi)\n",
    "                        #  update delta  and theta \n",
    "                        delta += self.gamma*Qa\n",
    "                        self.theta += alpha*delta*self.e\n",
    "                        self.e = self.gamma*l*self.e\n",
    "\n",
    "                    else:\n",
    "                        Qa = float(-100000)\n",
    "                        for act in range(len(self.a)):\n",
    "                            phi_curr = self.feature_vector(ns,self.a[act])\n",
    "                            Q =  sum(self.theta*phi_curr)\n",
    "                            if Q > Qa:\n",
    "                                Qa = Q\n",
    "                                na_ind = act\n",
    "                                phi = phi_curr\n",
    "                    s = ns\n",
    "                    a_ind = na_ind\n",
    "                    \n",
    "            rewards[l_ind] = acum_reward\n",
    "            l += 0.1\n",
    "            l_ind += 1\n",
    "        l = np.linspace(0, 1, num=11)\n",
    "        return l,rewards "
   ]
  },
  {
   "cell_type": "code",
   "execution_count": 159,
   "metadata": {
    "collapsed": true
   },
   "outputs": [],
   "source": [
    "b = BlackJack()"
   ]
  },
  {
   "cell_type": "code",
   "execution_count": 161,
   "metadata": {
    "collapsed": false
   },
   "outputs": [
    {
     "data": {
      "text/plain": [
       "array([-34., -30., -48., -48., -40., -28., -38., -42., -26., -18., -48.])"
      ]
     },
     "execution_count": 161,
     "metadata": {},
     "output_type": "execute_result"
    }
   ],
   "source": [
    "l,r = b.sarsa_lambda()\n",
    "r"
   ]
  },
  {
   "cell_type": "code",
   "execution_count": 162,
   "metadata": {
    "collapsed": false
   },
   "outputs": [
    {
     "data": {
      "text/plain": [
       "[<matplotlib.lines.Line2D at 0x7f6310cb0ac8>]"
      ]
     },
     "execution_count": 162,
     "metadata": {},
     "output_type": "execute_result"
    },
    {
     "data": {
      "image/png": "[encoded data removed]",
      "text/plain": [
       "<matplotlib.figure.Figure at 0x7f6310d4fcf8>"
      ]
     },
     "metadata": {},
     "output_type": "display_data"
    }
   ],
   "source": [
    "%matplotlib inline\n",
    "plt.plot(l,r)"
   ]
  },
  {
   "cell_type": "code",
   "execution_count": 170,
   "metadata": {
    "collapsed": false
   },
   "outputs": [
    {
     "data": {
      "text/plain": [
       "array([-22., -36., -50., -22.,  -6., -20., -24., -32., -12., -20., -22.])"
      ]
     },
     "execution_count": 170,
     "metadata": {},
     "output_type": "execute_result"
    }
   ],
   "source": [
    "l,r = b.value_function_approximator()\n",
    "r"
   ]
  },
  {
   "cell_type": "code",
   "execution_count": 164,
   "metadata": {
    "collapsed": false
   },
   "outputs": [
    {
     "data": {
      "text/plain": [
       "[<matplotlib.lines.Line2D at 0x7f6310bc7710>]"
      ]
     },
     "execution_count": 164,
     "metadata": {},
     "output_type": "execute_result"
    },
    {
     "data": {
      "image/png": "[encoded data removed]",
      "text/plain": [
       "<matplotlib.figure.Figure at 0x7f6310c67978>"
      ]
     },
     "metadata": {},
     "output_type": "display_data"
    }
   ],
   "source": [
    "%matplotlib inline\n",
    "plt.plot(l,r)"
   ]
  },
  {
   "cell_type": "code",
   "execution_count": null,
   "metadata": {
    "collapsed": true
   },
   "outputs": [],
   "source": []
  },
  {
   "cell_type": "code",
   "execution_count": null,
   "metadata": {
    "collapsed": true
   },
   "outputs": [],
   "source": []
  }
 ],
 "metadata": {
  "anaconda-cloud": {},
  "kernelspec": {
   "display_name": "Python [Root]",
   "language": "python",
   "name": "Python [Root]"
  },
  "language_info": {
   "codemirror_mode": {
    "name": "ipython",
    "version": 3
   },
   "file_extension": ".py",
   "mimetype": "text/x-python",
   "name": "python",
   "nbconvert_exporter": "python",
   "pygments_lexer": "ipython3",
   "version": "3.5.2"
  }
 },
 "nbformat": 4,
 "nbformat_minor": 1
}
