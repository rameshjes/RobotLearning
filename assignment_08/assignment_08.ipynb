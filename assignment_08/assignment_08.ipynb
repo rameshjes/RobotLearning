{
 "cells": [
  {
   "cell_type": "code",
   "execution_count": 2,
   "metadata": {
    "collapsed": false
   },
   "outputs": [],
   "source": [
    "import numpy as np\n",
    "import matplotlib.pyplot as plt\n",
    "import pandas as pd\n",
    "import sympy as sp\n",
    "import math\n",
    "sp.init_printing()\n",
    "%matplotlib inline"
   ]
  },
  {
   "cell_type": "code",
   "execution_count": 53,
   "metadata": {
    "collapsed": false
   },
   "outputs": [],
   "source": [
    "class GradientDescent:\n",
    "    def __init__(self):\n",
    "        self.mc = 2   # cart mass\n",
    "        self.mp = 0.5 # pole mass\n",
    "        self.g = 9.81 # gravity\n",
    "        self.l = 0.6  # half pole length\n",
    "        self.dt = 0.01 # time interval\n",
    "        # cart position, cart velocity, pole angle, pole angular velocity\n",
    "        self.initial_state = np.array([-1.0, 0.2, 0.2, -0.4]) \n",
    "        # noise\n",
    "        self.noise = np.array([0.001, 0.002, 0.001, 0.002])\n",
    "\n",
    "        self.cart_target = [-0.1,0.1]  # target region in meters \n",
    "        self.pole_target = [-0.1,0.1]  # target region in radians\n",
    "        self.k1 = 1\n",
    "        self.k2 = 1\n",
    "        self.k3 = 1\n",
    "        self.k4 = 1\n",
    "        \n",
    "    def x_acc(self, F, theta_d, theta):\n",
    "        x_dd = (F - self.l*self.mp*(self.theta_acc(F, theta_d, theta)*np.cos(theta) - \n",
    "                                    np.sin(theta)*theta_d**2))/(self.mp + self.mc)\n",
    "        return x_dd\n",
    "    \n",
    "    def theta_acc(self, F, theta_d, theta):\n",
    "        theta_dd = (self.g*np.sin(theta)*(self.mp + self.mc) - \n",
    "                    (F + self.mp*self.l*np.sin(theta)*theta_d**2)*np.cos(theta)) / ((4/3)*self.l*(self.mc + \n",
    "                    self.mp) - self.mp*self.l*np.cos(theta)**2)\n",
    "        return theta_dd\n",
    "    \n",
    "    def state_evolution(self):\n",
    "        x = self.initial_state[0]\n",
    "        x_d = self.initial_state[1]\n",
    "        theta = self.initial_state[2]\n",
    "        theta_d = self.initial_state[3]\n",
    "        states = []\n",
    "        F = 0\n",
    "        N = 1/self.dt\n",
    "        # zero mean \n",
    "        mean = np.array([0, 0, 0, 0])\n",
    "        for i in range(int(N)):\n",
    "            noise = np.random.normal(mean, self.noise)\n",
    "            x = x + self.dt*x_d + noise[0]\n",
    "            x_d = x_d + self.dt*self.x_acc(F, theta_d, theta) + noise[1]\n",
    "            theta = theta + self.dt*theta_d + noise[2]\n",
    "            theta_d = theta_d + self.dt*self.theta_acc(F, theta_d, theta) + noise[3]\n",
    "            states.append([x, x_d, theta, theta_d])\n",
    "        return states \n",
    "    \n",
    "    def run_simulation(self,k1,k2,k3,k4, timesteps):\n",
    "        reward = 0\n",
    "        x = self.initial_state[0]\n",
    "        x_d = self.initial_state[1]\n",
    "        theta = self.initial_state[2]\n",
    "        theta_d = self.initial_state[3]\n",
    "        states = []\n",
    "        rewards = []\n",
    "        actions = []\n",
    "        N = timesteps\n",
    "        # zero mean \n",
    "        mean = np.array([0, 0, 0, 0])\n",
    "        for i in range(N):\n",
    "            f = k1*x + k2*x_d + k3*theta + k4*theta_d\n",
    "            F = min(50,max(-50, f))\n",
    "            noise = np.random.normal(mean, self.noise)\n",
    "            x = x + self.dt*x_d + noise[0]\n",
    "            x_d = x_d + self.dt*self.x_acc(F, theta_d, theta) + noise[1]\n",
    "            theta = theta + self.dt*theta_d + noise[2]\n",
    "            theta_d = theta_d + self.dt*self.theta_acc(F, theta_d, theta) + noise[3]\n",
    "            states.append([x, x_d, theta, theta_d])\n",
    "            actions.append(F)\n",
    "            if not (self.pole_target[0] <= theta and theta <= self.pole_target[1]):\n",
    "                reward = -1\n",
    "            elif not (self.cart_target[0] <= x and x <= self.cart_target[1]):\n",
    "                reward = -1\n",
    "            else:\n",
    "                reward = 0\n",
    "            rewards.append(reward)\n",
    "            if abs(theta) > 1 or abs(x) > 5:\n",
    "                final_reward = -(N-i)\n",
    "                return rewards, states, actions, final_reward\n",
    "            \n",
    "        return rewards, states, actions, final_reward\n",
    "    \n",
    "    def compute_policy(self, states, theta):\n",
    "        prob_right = self.sigmoid(np.dot(states, np.transpose(theta)))\n",
    "        return [1-prob_right, prob_right]\n",
    "    \n",
    "    def sigmoid(self, u):\n",
    "        return 1.0 / (1.0 + np.exp(-u))\n",
    "\n",
    "    def compute_policy_gradient(self, rewards, actions, states, theta):\n",
    "        gradient = 0\n",
    "        episode_length = len(rewards)\n",
    "        for t in range(episode_length):\n",
    "            # Compute the policy on the observation and theta.\n",
    "            pi = self.compute_policy(states[t], theta)\n",
    "            a_t = actions[t]\n",
    "            v_t = sum(rewards[t::])\n",
    "            if a_t == 0:\n",
    "                grad_theta_log_pi = - pi[1] * np.asarray(states[t]) * v_t\n",
    "            else:\n",
    "                grad_theta_log_pi = pi[0] * np.asarray(states[t]) * v_t\n",
    "            gradient = gradient + grad_theta_log_pi\n",
    "        return gradient\n",
    "    \n",
    "    def train_policy_gradient_agent(self, theta, timesteps, episodes, initial_step_size):\n",
    "\n",
    "        for i_episode in range(episodes):\n",
    "#             print(i_episode)\n",
    "            # Run an episode with our current policy\n",
    "            rewards, states, actions, f_reward = self.run_simulation(theta[0], theta[1], theta[2], theta[3], timesteps)\n",
    "            print(len(rewards))\n",
    "            # Compute the policy gradient for this trajectory\n",
    "            policy_gradient = self.compute_policy_gradient(rewards, actions, states, theta)\n",
    "\n",
    "            # Vanilla gradient ascent\n",
    "            # We decrease the step size proportional to 1/i_episode\n",
    "            step_size = initial_step_size / (1 + i_episode)\n",
    "            theta = theta + step_size * policy_gradient\n",
    "\n",
    "        # Return our trained theta\n",
    "        return theta\n",
    "    \n",
    "    def estimate_gradient(self, theta, timesteps, episodes):\n",
    "        perturbation = []\n",
    "        J_k = []\n",
    "        gradient = [0.0,0.0,0.0,0.0]\n",
    "        for k in range(len(theta)):\n",
    "            rewards, states, actions, f_reward = self.run_simulation(theta[0], theta[1], theta[2], theta[3], timesteps)\n",
    "            J_0 = rewards[len(rewards)-1]\n",
    "            for e in range(episodes):\n",
    "                d_theta = np.random.rand()*self.noise[k]*2-self.noise[k]\n",
    "                perturbation.append(d_theta)\n",
    "                theta[k] = theta[k] + d_theta\n",
    "                rewards, states, actions, f_reward = self.run_simulation(theta[0], theta[1], theta[2], theta[3], timesteps)\n",
    "                J = rewards[len(rewards)-1]\n",
    "                J_k.append(J)\n",
    "            gradient[k] = np.sum(np.asarray(perturbation)*(np.asarray(J_k)-J_0))/np.sum(np.asarray(perturbation))**2\n",
    "        return gradient\n",
    "    \n",
    "#     def policy_gradient(self,k1, k2, k3, k4, alpha, timesteps, num_episodes):\n",
    "#         theta = np.array([k1,k2,k3,k4])\n",
    "#         print(theta)\n",
    "#         for i_episode in range(num_episodes):\n",
    "#             gradient = self.estimate_gradient(theta, timesteps, num_episodes)\n",
    "# #             step_size = alpha / (1 + i_episode)\n",
    "# #             print(theta)\n",
    "# #             print(step_size)\n",
    "# #             print(gradient)\n",
    "#             theta = theta + alpha *  np.asarray(gradient)\n",
    "#         return theta"
   ]
  },
  {
   "cell_type": "code",
   "execution_count": 54,
   "metadata": {
    "collapsed": false
   },
   "outputs": [
    {
     "data": {
      "image/png": "[encoded data removed]",
      "text/plain": [
       "<matplotlib.figure.Figure at 0x7f907d79a550>"
      ]
     },
     "metadata": {},
     "output_type": "display_data"
    }
   ],
   "source": [
    "obj = GradientDescent()\n",
    "states = obj.state_evolution()\n",
    "states = np.asarray(states)\n",
    "plt.figure()\n",
    "x = np.linspace(0,1,100)\n",
    "cart_p, = plt.plot(x,states[:,0], label='cart position')\n",
    "cart_v, = plt.plot(x,states[:,1], label='cart velocity')\n",
    "pole_p, = plt.plot(x,states[:,2], label='pole position')\n",
    "pole_v, = plt.plot(x,states[:,3], label='pole velocity')\n",
    "plt.legend(handles=[cart_p,cart_v,pole_p,pole_v],bbox_to_anchor=(1.05, 1), loc=2, borderaxespad=0.)\n",
    "plt.show()"
   ]
  },
  {
   "cell_type": "code",
   "execution_count": 55,
   "metadata": {
    "collapsed": false
   },
   "outputs": [],
   "source": [
    "# pd.DataFrame(states)"
   ]
  },
  {
   "cell_type": "code",
   "execution_count": 56,
   "metadata": {
    "collapsed": false
   },
   "outputs": [
    {
     "data": {
      "image/png": "[encoded data removed]",
      "text/plain": [
       "<matplotlib.figure.Figure at 0x7f907d616198>"
      ]
     },
     "metadata": {},
     "output_type": "display_data"
    },
    {
     "name": "stdout",
     "output_type": "stream",
     "text": [
      "reward: -921\n",
      "timesteps achieved: 80\n"
     ]
    }
   ],
   "source": [
    "k1 = 1.0\n",
    "k2 = 1.0\n",
    "k3 = 1.0\n",
    "k4 = 1.0\n",
    "timesteps = 1000\n",
    "reward, states, actions, f_reward = obj.run_simulation(k1,k2,k3,k4, timesteps)\n",
    "states = np.asarray(states)\n",
    "plt.figure()\n",
    "x = np.linspace(0,1,len(states))\n",
    "cart_p, = plt.plot(x,states[:,0], label='cart position')\n",
    "cart_v, = plt.plot(x,states[:,1], label='cart velocity')\n",
    "pole_p, = plt.plot(x,states[:,2], label='pole angle')\n",
    "pole_v, = plt.plot(x,states[:,3], label='pole angular velocity')\n",
    "plt.legend(handles=[cart_p,cart_v,pole_p,pole_v],bbox_to_anchor=(1.05, 1), loc=2, borderaxespad=0.)\n",
    "plt.show()\n",
    "print('reward: ' + str(f_reward))\n",
    "print('timesteps achieved: ' + str(len(states)))\n",
    "# print(reward)"
   ]
  },
  {
   "cell_type": "code",
   "execution_count": 57,
   "metadata": {
    "collapsed": false
   },
   "outputs": [
    {
     "name": "stdout",
     "output_type": "stream",
     "text": [
      "79\n",
      "34\n",
      "30\n",
      "29\n",
      "28\n",
      "28\n",
      "28\n",
      "28\n",
      "28\n",
      "27\n",
      "27\n",
      "27\n",
      "27\n",
      "27\n",
      "27\n",
      "27\n",
      "27\n",
      "27\n",
      "27\n",
      "27\n",
      "27\n",
      "27\n",
      "27\n",
      "27\n",
      "27\n",
      "27\n",
      "27\n",
      "27\n",
      "27\n",
      "27\n",
      "27\n",
      "27\n",
      "27\n",
      "27\n",
      "27\n",
      "27\n",
      "27\n",
      "27\n",
      "27\n",
      "27\n",
      "26\n",
      "27\n",
      "27\n",
      "27\n",
      "27\n",
      "27\n",
      "27\n",
      "27\n",
      "27\n",
      "27\n",
      "27\n",
      "27\n",
      "27\n",
      "27\n",
      "26\n",
      "27\n",
      "27\n",
      "27\n",
      "27\n",
      "27\n",
      "27\n",
      "26\n",
      "27\n",
      "27\n",
      "27\n",
      "27\n",
      "27\n",
      "27\n",
      "27\n",
      "27\n",
      "27\n",
      "26\n",
      "27\n",
      "27\n",
      "26\n",
      "26\n",
      "27\n",
      "27\n",
      "26\n",
      "26\n",
      "26\n",
      "26\n",
      "27\n",
      "26\n",
      "26\n",
      "26\n",
      "26\n",
      "26\n",
      "26\n",
      "26\n",
      "26\n",
      "26\n",
      "27\n",
      "27\n",
      "26\n",
      "26\n",
      "26\n",
      "27\n",
      "26\n",
      "27\n"
     ]
    },
    {
     "data": {
      "text/plain": [
       "array([ 36.90232465,  25.87271519,  -8.26060053, -37.69273118])"
      ]
     },
     "execution_count": 57,
     "metadata": {},
     "output_type": "execute_result"
    }
   ],
   "source": [
    "alpha = 0.01\n",
    "initial_step_size = 0.01\n",
    "max_episodes = 10\n",
    "theta = np.array([k1,k2,k3,k4])\n",
    "theta = obj.train_policy_gradient_agent(theta, timesteps, max_episodes, initial_step_size)\n",
    "theta"
   ]
  },
  {
   "cell_type": "code",
   "execution_count": 24,
   "metadata": {
    "collapsed": false
   },
   "outputs": [
    {
     "name": "stdout",
     "output_type": "stream",
     "text": [
      "[ 1.  1.  1.  1.]\n",
      "[ 1.01004611  1.24652709  0.96372558  0.9424053 ]\n"
     ]
    }
   ],
   "source": [
    "\n",
    "theta = obj.policy_gradient(k1,k2,k3,k4,alpha,timesteps,max_episodes)\n",
    "print(theta)"
   ]
  },
  {
   "cell_type": "code",
   "execution_count": 28,
   "metadata": {
    "collapsed": false
   },
   "outputs": [
    {
     "name": "stdout",
     "output_type": "stream",
     "text": [
      "reward: -921\n",
      "timesteps achieved: 79\n"
     ]
    },
    {
     "data": {
      "image/png": "[encoded data removed]",
      "text/plain": [
       "<matplotlib.figure.Figure at 0x7f907d85f2e8>"
      ]
     },
     "metadata": {},
     "output_type": "display_data"
    }
   ],
   "source": [
    "rewards, states, actions, f_rewards = obj.run_simulation(theta[0], theta[1], theta[2], theta[3], timesteps)\n",
    "print('reward: ' + str(f_reward))\n",
    "print('timesteps achieved: ' + str(len(states)))\n",
    "states = np.asarray(states)\n",
    "plt.figure()\n",
    "x = np.linspace(0,len(states)*0.01,len(states))\n",
    "cart_p, = plt.plot(x,states[:,0], label='cart position')\n",
    "cart_v, = plt.plot(x,states[:,1], label='cart velocity')\n",
    "pole_p, = plt.plot(x,states[:,2], label='pole angle')\n",
    "pole_v, = plt.plot(x,states[:,3], label='pole angular velocity')\n",
    "plt.legend(handles=[cart_p,cart_v,pole_p,pole_v],bbox_to_anchor=(1.05, 1), loc=2, borderaxespad=0.)\n",
    "plt.show()"
   ]
  },
  {
   "cell_type": "code",
   "execution_count": null,
   "metadata": {
    "collapsed": false
   },
   "outputs": [],
   "source": [
    "theta"
   ]
  },
  {
   "cell_type": "code",
   "execution_count": null,
   "metadata": {
    "collapsed": true
   },
   "outputs": [],
   "source": []
  },
  {
   "cell_type": "code",
   "execution_count": null,
   "metadata": {
    "collapsed": true
   },
   "outputs": [],
   "source": []
  }
 ],
 "metadata": {
  "anaconda-cloud": {},
  "kernelspec": {
   "display_name": "Python [Root]",
   "language": "python",
   "name": "Python [Root]"
  },
  "language_info": {
   "codemirror_mode": {
    "name": "ipython",
    "version": 3
   },
   "file_extension": ".py",
   "mimetype": "text/x-python",
   "name": "python",
   "nbconvert_exporter": "python",
   "pygments_lexer": "ipython3",
   "version": "3.5.2"
  }
 },
 "nbformat": 4,
 "nbformat_minor": 0
}
